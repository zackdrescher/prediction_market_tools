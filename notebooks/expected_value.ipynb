{
 "cells": [
  {
   "cell_type": "code",
   "execution_count": 1,
   "id": "ef0f4dba-38a4-47be-818b-29cfff9ae877",
   "metadata": {},
   "outputs": [
    {
     "data": {
      "text/plain": [
       "'/home/zack/personal/prediction_market_tools'"
      ]
     },
     "execution_count": 1,
     "metadata": {},
     "output_type": "execute_result"
    }
   ],
   "source": [
    "import os\n",
    "\n",
    "if os.path.basename(os.getcwd()) == 'notebooks':\n",
    "    os.chdir('..')\n",
    "    \n",
    "os.getcwd()"
   ]
  },
  {
   "cell_type": "code",
   "execution_count": 2,
   "id": "6d08fbcb-c46e-42fe-95af-46185037f7dc",
   "metadata": {},
   "outputs": [],
   "source": [
    "import pandas as pd"
   ]
  },
  {
   "cell_type": "code",
   "execution_count": 3,
   "id": "5d0323d2-e097-4a08-94f9-4df0ddf9e7b3",
   "metadata": {},
   "outputs": [],
   "source": [
    "p = pd.read_csv('data/raw/predsnprices.csv')"
   ]
  },
  {
   "cell_type": "code",
   "execution_count": 4,
   "id": "0359c273-67b1-4789-aa69-fe47ca66a0c5",
   "metadata": {},
   "outputs": [
    {
     "data": {
      "text/html": [
       "<div>\n",
       "<style scoped>\n",
       "    .dataframe tbody tr th:only-of-type {\n",
       "        vertical-align: middle;\n",
       "    }\n",
       "\n",
       "    .dataframe tbody tr th {\n",
       "        vertical-align: top;\n",
       "    }\n",
       "\n",
       "    .dataframe thead th {\n",
       "        text-align: right;\n",
       "    }\n",
       "</style>\n",
       "<table border=\"1\" class=\"dataframe\">\n",
       "  <thead>\n",
       "    <tr style=\"text-align: right;\">\n",
       "      <th></th>\n",
       "      <th>symbol</th>\n",
       "      <th>date</th>\n",
       "      <th>yesPrice</th>\n",
       "      <th>noPrice</th>\n",
       "      <th>myBet</th>\n",
       "    </tr>\n",
       "  </thead>\n",
       "  <tbody>\n",
       "    <tr>\n",
       "      <th>0</th>\n",
       "      <td>lcase-001</td>\n",
       "      <td>20210902</td>\n",
       "      <td>58</td>\n",
       "      <td>44</td>\n",
       "      <td>72</td>\n",
       "    </tr>\n",
       "    <tr>\n",
       "      <th>1</th>\n",
       "      <td>lcase-001</td>\n",
       "      <td>20210909</td>\n",
       "      <td>19</td>\n",
       "      <td>82</td>\n",
       "      <td>35</td>\n",
       "    </tr>\n",
       "    <tr>\n",
       "      <th>2</th>\n",
       "      <td>voch-001</td>\n",
       "      <td>20210909</td>\n",
       "      <td>35</td>\n",
       "      <td>66</td>\n",
       "      <td>25</td>\n",
       "    </tr>\n",
       "    <tr>\n",
       "      <th>3</th>\n",
       "      <td>nyschl-001</td>\n",
       "      <td>20210909</td>\n",
       "      <td>84</td>\n",
       "      <td>18</td>\n",
       "      <td>90</td>\n",
       "    </tr>\n",
       "  </tbody>\n",
       "</table>\n",
       "</div>"
      ],
      "text/plain": [
       "       symbol      date  yesPrice  noPrice  myBet\n",
       "0   lcase-001  20210902        58       44     72\n",
       "1   lcase-001  20210909        19       82     35\n",
       "2    voch-001  20210909        35       66     25\n",
       "3  nyschl-001  20210909        84       18     90"
      ]
     },
     "execution_count": 4,
     "metadata": {},
     "output_type": "execute_result"
    }
   ],
   "source": [
    "p"
   ]
  },
  {
   "cell_type": "code",
   "execution_count": 5,
   "id": "f5c30827-d82d-4583-b5a9-e077870040d0",
   "metadata": {},
   "outputs": [],
   "source": [
    "p[['yesPrice', 'noPrice', 'myBet']] = p[['yesPrice', 'noPrice', 'myBet']] / 100"
   ]
  },
  {
   "cell_type": "code",
   "execution_count": 6,
   "id": "9f0cdbfe-0bab-4c2b-80b4-99764849421a",
   "metadata": {},
   "outputs": [
    {
     "data": {
      "text/html": [
       "<div>\n",
       "<style scoped>\n",
       "    .dataframe tbody tr th:only-of-type {\n",
       "        vertical-align: middle;\n",
       "    }\n",
       "\n",
       "    .dataframe tbody tr th {\n",
       "        vertical-align: top;\n",
       "    }\n",
       "\n",
       "    .dataframe thead th {\n",
       "        text-align: right;\n",
       "    }\n",
       "</style>\n",
       "<table border=\"1\" class=\"dataframe\">\n",
       "  <thead>\n",
       "    <tr style=\"text-align: right;\">\n",
       "      <th></th>\n",
       "      <th>symbol</th>\n",
       "      <th>date</th>\n",
       "      <th>yesPrice</th>\n",
       "      <th>noPrice</th>\n",
       "      <th>myBet</th>\n",
       "    </tr>\n",
       "  </thead>\n",
       "  <tbody>\n",
       "    <tr>\n",
       "      <th>0</th>\n",
       "      <td>lcase-001</td>\n",
       "      <td>20210902</td>\n",
       "      <td>0.58</td>\n",
       "      <td>0.44</td>\n",
       "      <td>0.72</td>\n",
       "    </tr>\n",
       "    <tr>\n",
       "      <th>1</th>\n",
       "      <td>lcase-001</td>\n",
       "      <td>20210909</td>\n",
       "      <td>0.19</td>\n",
       "      <td>0.82</td>\n",
       "      <td>0.35</td>\n",
       "    </tr>\n",
       "    <tr>\n",
       "      <th>2</th>\n",
       "      <td>voch-001</td>\n",
       "      <td>20210909</td>\n",
       "      <td>0.35</td>\n",
       "      <td>0.66</td>\n",
       "      <td>0.25</td>\n",
       "    </tr>\n",
       "    <tr>\n",
       "      <th>3</th>\n",
       "      <td>nyschl-001</td>\n",
       "      <td>20210909</td>\n",
       "      <td>0.84</td>\n",
       "      <td>0.18</td>\n",
       "      <td>0.90</td>\n",
       "    </tr>\n",
       "  </tbody>\n",
       "</table>\n",
       "</div>"
      ],
      "text/plain": [
       "       symbol      date  yesPrice  noPrice  myBet\n",
       "0   lcase-001  20210902      0.58     0.44   0.72\n",
       "1   lcase-001  20210909      0.19     0.82   0.35\n",
       "2    voch-001  20210909      0.35     0.66   0.25\n",
       "3  nyschl-001  20210909      0.84     0.18   0.90"
      ]
     },
     "execution_count": 6,
     "metadata": {},
     "output_type": "execute_result"
    }
   ],
   "source": [
    "p"
   ]
  },
  {
   "cell_type": "code",
   "execution_count": 7,
   "id": "ce99f14d-9364-4021-9d8f-67be3c2336e3",
   "metadata": {},
   "outputs": [],
   "source": [
    "p.date = pd.to_datetime(p.date, format='%Y%m%d')"
   ]
  },
  {
   "cell_type": "code",
   "execution_count": 8,
   "id": "49c7c746-6d23-4235-a092-131b74911768",
   "metadata": {},
   "outputs": [
    {
     "data": {
      "text/html": [
       "<div>\n",
       "<style scoped>\n",
       "    .dataframe tbody tr th:only-of-type {\n",
       "        vertical-align: middle;\n",
       "    }\n",
       "\n",
       "    .dataframe tbody tr th {\n",
       "        vertical-align: top;\n",
       "    }\n",
       "\n",
       "    .dataframe thead th {\n",
       "        text-align: right;\n",
       "    }\n",
       "</style>\n",
       "<table border=\"1\" class=\"dataframe\">\n",
       "  <thead>\n",
       "    <tr style=\"text-align: right;\">\n",
       "      <th></th>\n",
       "      <th>symbol</th>\n",
       "      <th>date</th>\n",
       "      <th>yesPrice</th>\n",
       "      <th>noPrice</th>\n",
       "      <th>myBet</th>\n",
       "    </tr>\n",
       "  </thead>\n",
       "  <tbody>\n",
       "    <tr>\n",
       "      <th>0</th>\n",
       "      <td>lcase-001</td>\n",
       "      <td>2021-09-02</td>\n",
       "      <td>0.58</td>\n",
       "      <td>0.44</td>\n",
       "      <td>0.72</td>\n",
       "    </tr>\n",
       "    <tr>\n",
       "      <th>1</th>\n",
       "      <td>lcase-001</td>\n",
       "      <td>2021-09-09</td>\n",
       "      <td>0.19</td>\n",
       "      <td>0.82</td>\n",
       "      <td>0.35</td>\n",
       "    </tr>\n",
       "    <tr>\n",
       "      <th>2</th>\n",
       "      <td>voch-001</td>\n",
       "      <td>2021-09-09</td>\n",
       "      <td>0.35</td>\n",
       "      <td>0.66</td>\n",
       "      <td>0.25</td>\n",
       "    </tr>\n",
       "    <tr>\n",
       "      <th>3</th>\n",
       "      <td>nyschl-001</td>\n",
       "      <td>2021-09-09</td>\n",
       "      <td>0.84</td>\n",
       "      <td>0.18</td>\n",
       "      <td>0.90</td>\n",
       "    </tr>\n",
       "  </tbody>\n",
       "</table>\n",
       "</div>"
      ],
      "text/plain": [
       "       symbol       date  yesPrice  noPrice  myBet\n",
       "0   lcase-001 2021-09-02      0.58     0.44   0.72\n",
       "1   lcase-001 2021-09-09      0.19     0.82   0.35\n",
       "2    voch-001 2021-09-09      0.35     0.66   0.25\n",
       "3  nyschl-001 2021-09-09      0.84     0.18   0.90"
      ]
     },
     "execution_count": 8,
     "metadata": {},
     "output_type": "execute_result"
    }
   ],
   "source": [
    "p"
   ]
  },
  {
   "cell_type": "code",
   "execution_count": 9,
   "id": "66c5de2d-9dc1-448b-89ab-8dfaee3420f4",
   "metadata": {},
   "outputs": [],
   "source": [
    "idx = p.groupby(['symbol'])['date'].transform(max) == p['date']\n",
    "latest_p = p[idx]"
   ]
  },
  {
   "cell_type": "code",
   "execution_count": 10,
   "id": "cdb52220-9b05-4486-9ddb-0194965dcf65",
   "metadata": {},
   "outputs": [
    {
     "data": {
      "text/html": [
       "<div>\n",
       "<style scoped>\n",
       "    .dataframe tbody tr th:only-of-type {\n",
       "        vertical-align: middle;\n",
       "    }\n",
       "\n",
       "    .dataframe tbody tr th {\n",
       "        vertical-align: top;\n",
       "    }\n",
       "\n",
       "    .dataframe thead th {\n",
       "        text-align: right;\n",
       "    }\n",
       "</style>\n",
       "<table border=\"1\" class=\"dataframe\">\n",
       "  <thead>\n",
       "    <tr style=\"text-align: right;\">\n",
       "      <th></th>\n",
       "      <th>symbol</th>\n",
       "      <th>date</th>\n",
       "      <th>yesPrice</th>\n",
       "      <th>noPrice</th>\n",
       "      <th>myBet</th>\n",
       "    </tr>\n",
       "  </thead>\n",
       "  <tbody>\n",
       "    <tr>\n",
       "      <th>1</th>\n",
       "      <td>lcase-001</td>\n",
       "      <td>2021-09-09</td>\n",
       "      <td>0.19</td>\n",
       "      <td>0.82</td>\n",
       "      <td>0.35</td>\n",
       "    </tr>\n",
       "    <tr>\n",
       "      <th>2</th>\n",
       "      <td>voch-001</td>\n",
       "      <td>2021-09-09</td>\n",
       "      <td>0.35</td>\n",
       "      <td>0.66</td>\n",
       "      <td>0.25</td>\n",
       "    </tr>\n",
       "    <tr>\n",
       "      <th>3</th>\n",
       "      <td>nyschl-001</td>\n",
       "      <td>2021-09-09</td>\n",
       "      <td>0.84</td>\n",
       "      <td>0.18</td>\n",
       "      <td>0.90</td>\n",
       "    </tr>\n",
       "  </tbody>\n",
       "</table>\n",
       "</div>"
      ],
      "text/plain": [
       "       symbol       date  yesPrice  noPrice  myBet\n",
       "1   lcase-001 2021-09-09      0.19     0.82   0.35\n",
       "2    voch-001 2021-09-09      0.35     0.66   0.25\n",
       "3  nyschl-001 2021-09-09      0.84     0.18   0.90"
      ]
     },
     "execution_count": 10,
     "metadata": {},
     "output_type": "execute_result"
    }
   ],
   "source": [
    "latest_p"
   ]
  },
  {
   "cell_type": "code",
   "execution_count": 11,
   "id": "ccc6b6c0-9ff0-4490-a5cc-adffa2d198d1",
   "metadata": {},
   "outputs": [
    {
     "name": "stderr",
     "output_type": "stream",
     "text": [
      "/tmp/ipykernel_9687/3675162240.py:1: SettingWithCopyWarning: \n",
      "A value is trying to be set on a copy of a slice from a DataFrame.\n",
      "Try using .loc[row_indexer,col_indexer] = value instead\n",
      "\n",
      "See the caveats in the documentation: https://pandas.pydata.org/pandas-docs/stable/user_guide/indexing.html#returning-a-view-versus-a-copy\n",
      "  latest_p['buyYes'] = latest_p.myBet > latest_p.yesPrice\n"
     ]
    }
   ],
   "source": [
    "latest_p['buyYes'] = latest_p.myBet > latest_p.yesPrice"
   ]
  },
  {
   "cell_type": "code",
   "execution_count": 12,
   "id": "9405c29d-50fa-4969-b960-969b79ae110c",
   "metadata": {},
   "outputs": [
    {
     "data": {
      "text/html": [
       "<div>\n",
       "<style scoped>\n",
       "    .dataframe tbody tr th:only-of-type {\n",
       "        vertical-align: middle;\n",
       "    }\n",
       "\n",
       "    .dataframe tbody tr th {\n",
       "        vertical-align: top;\n",
       "    }\n",
       "\n",
       "    .dataframe thead th {\n",
       "        text-align: right;\n",
       "    }\n",
       "</style>\n",
       "<table border=\"1\" class=\"dataframe\">\n",
       "  <thead>\n",
       "    <tr style=\"text-align: right;\">\n",
       "      <th></th>\n",
       "      <th>symbol</th>\n",
       "      <th>date</th>\n",
       "      <th>yesPrice</th>\n",
       "      <th>noPrice</th>\n",
       "      <th>myBet</th>\n",
       "      <th>buyYes</th>\n",
       "    </tr>\n",
       "  </thead>\n",
       "  <tbody>\n",
       "    <tr>\n",
       "      <th>1</th>\n",
       "      <td>lcase-001</td>\n",
       "      <td>2021-09-09</td>\n",
       "      <td>0.19</td>\n",
       "      <td>0.82</td>\n",
       "      <td>0.35</td>\n",
       "      <td>True</td>\n",
       "    </tr>\n",
       "    <tr>\n",
       "      <th>2</th>\n",
       "      <td>voch-001</td>\n",
       "      <td>2021-09-09</td>\n",
       "      <td>0.35</td>\n",
       "      <td>0.66</td>\n",
       "      <td>0.25</td>\n",
       "      <td>False</td>\n",
       "    </tr>\n",
       "    <tr>\n",
       "      <th>3</th>\n",
       "      <td>nyschl-001</td>\n",
       "      <td>2021-09-09</td>\n",
       "      <td>0.84</td>\n",
       "      <td>0.18</td>\n",
       "      <td>0.90</td>\n",
       "      <td>True</td>\n",
       "    </tr>\n",
       "  </tbody>\n",
       "</table>\n",
       "</div>"
      ],
      "text/plain": [
       "       symbol       date  yesPrice  noPrice  myBet  buyYes\n",
       "1   lcase-001 2021-09-09      0.19     0.82   0.35    True\n",
       "2    voch-001 2021-09-09      0.35     0.66   0.25   False\n",
       "3  nyschl-001 2021-09-09      0.84     0.18   0.90    True"
      ]
     },
     "execution_count": 12,
     "metadata": {},
     "output_type": "execute_result"
    }
   ],
   "source": [
    "latest_p"
   ]
  },
  {
   "cell_type": "code",
   "execution_count": 14,
   "id": "6b0d74e6-3ea0-447a-bb5a-9320afa732b2",
   "metadata": {},
   "outputs": [],
   "source": [
    "def get_probs(row):\n",
    "    if row.buyYes:\n",
    "        return [row.yesPrice, row.myBet]\n",
    "    else:\n",
    "        return [row.noPrice, 1 - row.myBet]"
   ]
  },
  {
   "cell_type": "code",
   "execution_count": 18,
   "id": "afec3c3c-d238-42d0-b418-7a9f3591f119",
   "metadata": {},
   "outputs": [
    {
     "name": "stderr",
     "output_type": "stream",
     "text": [
      "/home/zack/miniconda3/envs/preds/lib/python3.9/site-packages/pandas/core/frame.py:3636: SettingWithCopyWarning: \n",
      "A value is trying to be set on a copy of a slice from a DataFrame.\n",
      "Try using .loc[row_indexer,col_indexer] = value instead\n",
      "\n",
      "See the caveats in the documentation: https://pandas.pydata.org/pandas-docs/stable/user_guide/indexing.html#returning-a-view-versus-a-copy\n",
      "  self[k1] = value[k2]\n"
     ]
    }
   ],
   "source": [
    "latest_p[['mktp', 'myp']] = latest_p.apply(get_probs, axis=1, result_type='expand')\n",
    "latest_p[['mktq', 'myq']] = 1 - latest_p[['mktp', 'myp']]"
   ]
  },
  {
   "cell_type": "code",
   "execution_count": 19,
   "id": "f5a94cf2-b33a-41eb-842d-a4bdce83a2c5",
   "metadata": {},
   "outputs": [
    {
     "data": {
      "text/html": [
       "<div>\n",
       "<style scoped>\n",
       "    .dataframe tbody tr th:only-of-type {\n",
       "        vertical-align: middle;\n",
       "    }\n",
       "\n",
       "    .dataframe tbody tr th {\n",
       "        vertical-align: top;\n",
       "    }\n",
       "\n",
       "    .dataframe thead th {\n",
       "        text-align: right;\n",
       "    }\n",
       "</style>\n",
       "<table border=\"1\" class=\"dataframe\">\n",
       "  <thead>\n",
       "    <tr style=\"text-align: right;\">\n",
       "      <th></th>\n",
       "      <th>symbol</th>\n",
       "      <th>date</th>\n",
       "      <th>yesPrice</th>\n",
       "      <th>noPrice</th>\n",
       "      <th>myBet</th>\n",
       "      <th>buyYes</th>\n",
       "      <th>mktp</th>\n",
       "      <th>myp</th>\n",
       "      <th>mktq</th>\n",
       "      <th>myq</th>\n",
       "    </tr>\n",
       "  </thead>\n",
       "  <tbody>\n",
       "    <tr>\n",
       "      <th>1</th>\n",
       "      <td>lcase-001</td>\n",
       "      <td>2021-09-09</td>\n",
       "      <td>0.19</td>\n",
       "      <td>0.82</td>\n",
       "      <td>0.35</td>\n",
       "      <td>True</td>\n",
       "      <td>0.19</td>\n",
       "      <td>0.35</td>\n",
       "      <td>0.81</td>\n",
       "      <td>0.65</td>\n",
       "    </tr>\n",
       "    <tr>\n",
       "      <th>2</th>\n",
       "      <td>voch-001</td>\n",
       "      <td>2021-09-09</td>\n",
       "      <td>0.35</td>\n",
       "      <td>0.66</td>\n",
       "      <td>0.25</td>\n",
       "      <td>False</td>\n",
       "      <td>0.66</td>\n",
       "      <td>0.75</td>\n",
       "      <td>0.34</td>\n",
       "      <td>0.25</td>\n",
       "    </tr>\n",
       "    <tr>\n",
       "      <th>3</th>\n",
       "      <td>nyschl-001</td>\n",
       "      <td>2021-09-09</td>\n",
       "      <td>0.84</td>\n",
       "      <td>0.18</td>\n",
       "      <td>0.90</td>\n",
       "      <td>True</td>\n",
       "      <td>0.84</td>\n",
       "      <td>0.90</td>\n",
       "      <td>0.16</td>\n",
       "      <td>0.10</td>\n",
       "    </tr>\n",
       "  </tbody>\n",
       "</table>\n",
       "</div>"
      ],
      "text/plain": [
       "       symbol       date  yesPrice  noPrice  myBet  buyYes  mktp   myp  mktq  \\\n",
       "1   lcase-001 2021-09-09      0.19     0.82   0.35    True  0.19  0.35  0.81   \n",
       "2    voch-001 2021-09-09      0.35     0.66   0.25   False  0.66  0.75  0.34   \n",
       "3  nyschl-001 2021-09-09      0.84     0.18   0.90    True  0.84  0.90  0.16   \n",
       "\n",
       "    myq  \n",
       "1  0.65  \n",
       "2  0.25  \n",
       "3  0.10  "
      ]
     },
     "execution_count": 19,
     "metadata": {},
     "output_type": "execute_result"
    }
   ],
   "source": [
    "latest_p"
   ]
  },
  {
   "cell_type": "code",
   "execution_count": 21,
   "id": "fc58f676-8218-4fc0-9d97-c6eb9a2f3d18",
   "metadata": {},
   "outputs": [
    {
     "name": "stderr",
     "output_type": "stream",
     "text": [
      "/tmp/ipykernel_9687/1700352851.py:1: SettingWithCopyWarning: \n",
      "A value is trying to be set on a copy of a slice from a DataFrame.\n",
      "Try using .loc[row_indexer,col_indexer] = value instead\n",
      "\n",
      "See the caveats in the documentation: https://pandas.pydata.org/pandas-docs/stable/user_guide/indexing.html#returning-a-view-versus-a-copy\n",
      "  latest_p['expected_value'] = (latest_p.myp * latest_p.mktq) - (latest_p.myq * latest_p.mktp)\n"
     ]
    }
   ],
   "source": [
    "latest_p['expected_value'] = (latest_p.myp * latest_p.mktq) - (latest_p.myq * latest_p.mktp)"
   ]
  },
  {
   "cell_type": "code",
   "execution_count": 22,
   "id": "d64a89ab-ec9a-47fe-84bc-9844cd405c48",
   "metadata": {},
   "outputs": [
    {
     "data": {
      "text/html": [
       "<div>\n",
       "<style scoped>\n",
       "    .dataframe tbody tr th:only-of-type {\n",
       "        vertical-align: middle;\n",
       "    }\n",
       "\n",
       "    .dataframe tbody tr th {\n",
       "        vertical-align: top;\n",
       "    }\n",
       "\n",
       "    .dataframe thead th {\n",
       "        text-align: right;\n",
       "    }\n",
       "</style>\n",
       "<table border=\"1\" class=\"dataframe\">\n",
       "  <thead>\n",
       "    <tr style=\"text-align: right;\">\n",
       "      <th></th>\n",
       "      <th>symbol</th>\n",
       "      <th>date</th>\n",
       "      <th>yesPrice</th>\n",
       "      <th>noPrice</th>\n",
       "      <th>myBet</th>\n",
       "      <th>buyYes</th>\n",
       "      <th>mktp</th>\n",
       "      <th>myp</th>\n",
       "      <th>mktq</th>\n",
       "      <th>myq</th>\n",
       "      <th>expected_value</th>\n",
       "    </tr>\n",
       "  </thead>\n",
       "  <tbody>\n",
       "    <tr>\n",
       "      <th>1</th>\n",
       "      <td>lcase-001</td>\n",
       "      <td>2021-09-09</td>\n",
       "      <td>0.19</td>\n",
       "      <td>0.82</td>\n",
       "      <td>0.35</td>\n",
       "      <td>True</td>\n",
       "      <td>0.19</td>\n",
       "      <td>0.35</td>\n",
       "      <td>0.81</td>\n",
       "      <td>0.65</td>\n",
       "      <td>0.16</td>\n",
       "    </tr>\n",
       "    <tr>\n",
       "      <th>2</th>\n",
       "      <td>voch-001</td>\n",
       "      <td>2021-09-09</td>\n",
       "      <td>0.35</td>\n",
       "      <td>0.66</td>\n",
       "      <td>0.25</td>\n",
       "      <td>False</td>\n",
       "      <td>0.66</td>\n",
       "      <td>0.75</td>\n",
       "      <td>0.34</td>\n",
       "      <td>0.25</td>\n",
       "      <td>0.09</td>\n",
       "    </tr>\n",
       "    <tr>\n",
       "      <th>3</th>\n",
       "      <td>nyschl-001</td>\n",
       "      <td>2021-09-09</td>\n",
       "      <td>0.84</td>\n",
       "      <td>0.18</td>\n",
       "      <td>0.90</td>\n",
       "      <td>True</td>\n",
       "      <td>0.84</td>\n",
       "      <td>0.90</td>\n",
       "      <td>0.16</td>\n",
       "      <td>0.10</td>\n",
       "      <td>0.06</td>\n",
       "    </tr>\n",
       "  </tbody>\n",
       "</table>\n",
       "</div>"
      ],
      "text/plain": [
       "       symbol       date  yesPrice  noPrice  myBet  buyYes  mktp   myp  mktq  \\\n",
       "1   lcase-001 2021-09-09      0.19     0.82   0.35    True  0.19  0.35  0.81   \n",
       "2    voch-001 2021-09-09      0.35     0.66   0.25   False  0.66  0.75  0.34   \n",
       "3  nyschl-001 2021-09-09      0.84     0.18   0.90    True  0.84  0.90  0.16   \n",
       "\n",
       "    myq  expected_value  \n",
       "1  0.65            0.16  \n",
       "2  0.25            0.09  \n",
       "3  0.10            0.06  "
      ]
     },
     "execution_count": 22,
     "metadata": {},
     "output_type": "execute_result"
    }
   ],
   "source": [
    "latest_p"
   ]
  },
  {
   "cell_type": "code",
   "execution_count": 25,
   "id": "6c740406-208b-479a-a2f3-e51b63873f3a",
   "metadata": {},
   "outputs": [],
   "source": [
    "# latest_p['roi'] = latest_p.expected_value / latest_p.mktp"
   ]
  },
  {
   "cell_type": "code",
   "execution_count": 26,
   "id": "f4ec5591-0fe4-4841-8604-64f05443b63a",
   "metadata": {},
   "outputs": [
    {
     "data": {
      "text/html": [
       "<div>\n",
       "<style scoped>\n",
       "    .dataframe tbody tr th:only-of-type {\n",
       "        vertical-align: middle;\n",
       "    }\n",
       "\n",
       "    .dataframe tbody tr th {\n",
       "        vertical-align: top;\n",
       "    }\n",
       "\n",
       "    .dataframe thead th {\n",
       "        text-align: right;\n",
       "    }\n",
       "</style>\n",
       "<table border=\"1\" class=\"dataframe\">\n",
       "  <thead>\n",
       "    <tr style=\"text-align: right;\">\n",
       "      <th></th>\n",
       "      <th>symbol</th>\n",
       "      <th>date</th>\n",
       "      <th>yesPrice</th>\n",
       "      <th>noPrice</th>\n",
       "      <th>myBet</th>\n",
       "      <th>buyYes</th>\n",
       "      <th>mktp</th>\n",
       "      <th>myp</th>\n",
       "      <th>mktq</th>\n",
       "      <th>myq</th>\n",
       "      <th>expected_value</th>\n",
       "      <th>roi</th>\n",
       "    </tr>\n",
       "  </thead>\n",
       "  <tbody>\n",
       "    <tr>\n",
       "      <th>1</th>\n",
       "      <td>lcase-001</td>\n",
       "      <td>2021-09-09</td>\n",
       "      <td>0.19</td>\n",
       "      <td>0.82</td>\n",
       "      <td>0.35</td>\n",
       "      <td>True</td>\n",
       "      <td>0.19</td>\n",
       "      <td>0.35</td>\n",
       "      <td>0.81</td>\n",
       "      <td>0.65</td>\n",
       "      <td>0.16</td>\n",
       "      <td>0.842105</td>\n",
       "    </tr>\n",
       "    <tr>\n",
       "      <th>2</th>\n",
       "      <td>voch-001</td>\n",
       "      <td>2021-09-09</td>\n",
       "      <td>0.35</td>\n",
       "      <td>0.66</td>\n",
       "      <td>0.25</td>\n",
       "      <td>False</td>\n",
       "      <td>0.66</td>\n",
       "      <td>0.75</td>\n",
       "      <td>0.34</td>\n",
       "      <td>0.25</td>\n",
       "      <td>0.09</td>\n",
       "      <td>0.136364</td>\n",
       "    </tr>\n",
       "    <tr>\n",
       "      <th>3</th>\n",
       "      <td>nyschl-001</td>\n",
       "      <td>2021-09-09</td>\n",
       "      <td>0.84</td>\n",
       "      <td>0.18</td>\n",
       "      <td>0.90</td>\n",
       "      <td>True</td>\n",
       "      <td>0.84</td>\n",
       "      <td>0.90</td>\n",
       "      <td>0.16</td>\n",
       "      <td>0.10</td>\n",
       "      <td>0.06</td>\n",
       "      <td>0.071429</td>\n",
       "    </tr>\n",
       "  </tbody>\n",
       "</table>\n",
       "</div>"
      ],
      "text/plain": [
       "       symbol       date  yesPrice  noPrice  myBet  buyYes  mktp   myp  mktq  \\\n",
       "1   lcase-001 2021-09-09      0.19     0.82   0.35    True  0.19  0.35  0.81   \n",
       "2    voch-001 2021-09-09      0.35     0.66   0.25   False  0.66  0.75  0.34   \n",
       "3  nyschl-001 2021-09-09      0.84     0.18   0.90    True  0.84  0.90  0.16   \n",
       "\n",
       "    myq  expected_value       roi  \n",
       "1  0.65            0.16  0.842105  \n",
       "2  0.25            0.09  0.136364  \n",
       "3  0.10            0.06  0.071429  "
      ]
     },
     "execution_count": 26,
     "metadata": {},
     "output_type": "execute_result"
    }
   ],
   "source": [
    "latest_p"
   ]
  },
  {
   "cell_type": "code",
   "execution_count": 27,
   "id": "726b4d0d-dd2a-4126-a721-7c5dd0fb839a",
   "metadata": {},
   "outputs": [
    {
     "data": {
      "text/plain": [
       "3"
      ]
     },
     "execution_count": 27,
     "metadata": {},
     "output_type": "execute_result"
    }
   ],
   "source": [
    "len(latest_p)"
   ]
  },
  {
   "cell_type": "code",
   "execution_count": 28,
   "id": "f3065afd-44e1-400e-bb0c-6c13639ff2f7",
   "metadata": {},
   "outputs": [],
   "source": [
    "import itertools"
   ]
  },
  {
   "cell_type": "code",
   "execution_count": 35,
   "id": "072ed059-a988-449c-ae8c-b19fbab9e278",
   "metadata": {},
   "outputs": [],
   "source": [
    "import numpy as np"
   ]
  },
  {
   "cell_type": "code",
   "execution_count": 36,
   "id": "136646c7-aad9-4253-8c95-53491d8bf495",
   "metadata": {},
   "outputs": [],
   "source": [
    "p_ix = np.arange(len(latest_p))"
   ]
  },
  {
   "cell_type": "code",
   "execution_count": 37,
   "id": "e78f3a0a-a051-4006-9086-425a8ff761c8",
   "metadata": {},
   "outputs": [
    {
     "data": {
      "text/plain": [
       "[()]"
      ]
     },
     "execution_count": 37,
     "metadata": {},
     "output_type": "execute_result"
    }
   ],
   "source": [
    "list(itertools.combinations(p_ix, 0))"
   ]
  },
  {
   "cell_type": "code",
   "execution_count": 38,
   "id": "e340518f-c091-4c2c-a7d4-5029f82517b3",
   "metadata": {},
   "outputs": [
    {
     "data": {
      "text/plain": [
       "[(0,), (1,), (2,)]"
      ]
     },
     "execution_count": 38,
     "metadata": {},
     "output_type": "execute_result"
    }
   ],
   "source": [
    "list(itertools.combinations(p_ix, 1))"
   ]
  },
  {
   "cell_type": "code",
   "execution_count": 39,
   "id": "ed85b0af-4b10-4606-848f-e43db61d2919",
   "metadata": {},
   "outputs": [
    {
     "data": {
      "text/plain": [
       "[(0, 1), (0, 2), (1, 2)]"
      ]
     },
     "execution_count": 39,
     "metadata": {},
     "output_type": "execute_result"
    }
   ],
   "source": [
    "list(itertools.combinations(p_ix, 2))"
   ]
  },
  {
   "cell_type": "code",
   "execution_count": 40,
   "id": "abe2e414-5bb7-42f3-bb4d-099f34cedf88",
   "metadata": {},
   "outputs": [
    {
     "data": {
      "text/plain": [
       "[(0, 1, 2)]"
      ]
     },
     "execution_count": 40,
     "metadata": {},
     "output_type": "execute_result"
    }
   ],
   "source": [
    "list(itertools.combinations(p_ix, 3))"
   ]
  },
  {
   "cell_type": "code",
   "execution_count": 49,
   "id": "7c6a7d06-851c-4672-a9f6-87e105ae96ab",
   "metadata": {},
   "outputs": [
    {
     "data": {
      "text/plain": [
       "array([[ True,  True, False],\n",
       "       [ True, False,  True],\n",
       "       [False,  True,  True]])"
      ]
     },
     "execution_count": 49,
     "metadata": {},
     "output_type": "execute_result"
    }
   ],
   "source": [
    "flip_mask = np.stack([np.isin(p_ix, i) for i in itertools.combinations(p_ix, 2)])\n",
    "flip_mask"
   ]
  },
  {
   "cell_type": "code",
   "execution_count": 59,
   "id": "99fc1004-c53b-4b2f-b510-aecc76b7ff3c",
   "metadata": {},
   "outputs": [
    {
     "data": {
      "text/plain": [
       "array([[0.35, 0.75, 0.1 ],\n",
       "       [0.35, 0.25, 0.9 ],\n",
       "       [0.65, 0.75, 0.9 ]])"
      ]
     },
     "execution_count": 59,
     "metadata": {},
     "output_type": "execute_result"
    }
   ],
   "source": [
    "outcome_ps = np.where(flip_mask, latest_p.myp.values, latest_p.myq.values)\n",
    "outcome_ps"
   ]
  },
  {
   "cell_type": "code",
   "execution_count": 66,
   "id": "52e38693-0b93-4b99-a304-ca3b8bcd3b57",
   "metadata": {},
   "outputs": [
    {
     "data": {
      "text/plain": [
       "array([0.02625, 0.07875, 0.43875])"
      ]
     },
     "execution_count": 66,
     "metadata": {},
     "output_type": "execute_result"
    }
   ],
   "source": [
    "outcome_odds = outcome_ps.prod(axis=1)\n",
    "outcome_odds"
   ]
  },
  {
   "cell_type": "code",
   "execution_count": 68,
   "id": "916f7ae4-f958-49de-a888-ad216c685181",
   "metadata": {},
   "outputs": [
    {
     "data": {
      "text/plain": [
       "0.54375"
      ]
     },
     "execution_count": 68,
     "metadata": {},
     "output_type": "execute_result"
    }
   ],
   "source": [
    "situation_odds = outcome_odds.sum()\n",
    "situation_odds"
   ]
  },
  {
   "cell_type": "code",
   "execution_count": 76,
   "id": "2dd4d37e-a015-4592-8420-d10e912b470b",
   "metadata": {},
   "outputs": [
    {
     "data": {
      "text/plain": [
       "array([0.19, 0.66, 0.84])"
      ]
     },
     "execution_count": 76,
     "metadata": {},
     "output_type": "execute_result"
    }
   ],
   "source": [
    "latest_p.mktp.values"
   ]
  },
  {
   "cell_type": "code",
   "execution_count": 101,
   "id": "e624e84f-ae6c-4c74-a06c-297d2d3a966f",
   "metadata": {},
   "outputs": [
    {
     "data": {
      "text/plain": [
       "5263.157894736842"
      ]
     },
     "execution_count": 101,
     "metadata": {},
     "output_type": "execute_result"
    }
   ],
   "source": []
  },
  {
   "cell_type": "code",
   "execution_count": 105,
   "id": "303aa763-c0a9-4c40-8ab4-e388101fc685",
   "metadata": {},
   "outputs": [
    {
     "data": {
      "text/plain": [
       "array([5263., 1515., 1190.])"
      ]
     },
     "execution_count": 105,
     "metadata": {},
     "output_type": "execute_result"
    }
   ],
   "source": [
    "shares = np.floor(np.array([1000, 1000, 1000]) / latest_p.mktp.values)\n",
    "shares"
   ]
  },
  {
   "cell_type": "code",
   "execution_count": 70,
   "id": "318ba272-339e-403f-ba87-9c370bb8be3d",
   "metadata": {},
   "outputs": [
    {
     "data": {
      "text/plain": [
       "array([[ 0.81,  0.34, -0.84],\n",
       "       [ 0.81, -0.66,  0.16],\n",
       "       [-0.19,  0.34,  0.16]])"
      ]
     },
     "execution_count": 70,
     "metadata": {},
     "output_type": "execute_result"
    }
   ],
   "source": [
    "outcome_pays = np.where(flip_mask, latest_p.mktq.values, -latest_p.mktp.values)\n",
    "outcome_pays"
   ]
  },
  {
   "cell_type": "code",
   "execution_count": 108,
   "id": "d686db94-c6a6-4c53-92d4-56ec7cf6b9b3",
   "metadata": {},
   "outputs": [
    {
     "data": {
      "text/plain": [
       "array([[4263.03,  515.1 , -999.6 ],\n",
       "       [4263.03, -999.9 ,  190.4 ],\n",
       "       [-999.97,  515.1 ,  190.4 ]])"
      ]
     },
     "execution_count": 108,
     "metadata": {},
     "output_type": "execute_result"
    }
   ],
   "source": [
    "outcome_pays = outcome_pays * shares\n",
    "outcome_pays"
   ]
  },
  {
   "cell_type": "code",
   "execution_count": 109,
   "id": "297f0a01-d738-47ce-a8ce-fe9bdda84885",
   "metadata": {},
   "outputs": [
    {
     "data": {
      "text/plain": [
       "array([3778.53, 3453.53, -294.47])"
      ]
     },
     "execution_count": 109,
     "metadata": {},
     "output_type": "execute_result"
    }
   ],
   "source": [
    "outcome_totals = outcome_pays.sum(axis=1)\n",
    "outcome_totals"
   ]
  },
  {
   "cell_type": "code",
   "execution_count": 81,
   "id": "6ef422db-cf36-40cd-8b2c-2a5024345cf2",
   "metadata": {},
   "outputs": [
    {
     "data": {
      "text/plain": [
       "array([0.04827586, 0.14482759, 0.80689655])"
      ]
     },
     "execution_count": 81,
     "metadata": {},
     "output_type": "execute_result"
    }
   ],
   "source": [
    "sit_ps = outcome_odds / situation_odds\n",
    "sit_ps"
   ]
  },
  {
   "cell_type": "code",
   "execution_count": 85,
   "id": "3e6edcdd-569b-4a98-b815-8e90b71f7a4e",
   "metadata": {},
   "outputs": [
    {
     "data": {
      "text/plain": [
       "0.31000000000000005"
      ]
     },
     "execution_count": 85,
     "metadata": {},
     "output_type": "execute_result"
    }
   ],
   "source": [
    "situation_exp = (outcome_totals * sit_ps).sum()\n",
    "situation_exp"
   ]
  },
  {
   "cell_type": "code",
   "execution_count": 115,
   "id": "664e64d2-9851-49cf-bc27-eec91e2b5090",
   "metadata": {},
   "outputs": [],
   "source": [
    "def compute_situation_expectations(ps, qs, prices, pays, bet_weights, n_hits):\n",
    "    p_ix = np.arange(len(ps))\n",
    "    flip_mask = np.stack([np.isin(p_ix, i) for i in itertools.combinations(p_ix, n_hits)])\n",
    "    \n",
    "    bet_ps = np.where(flip_mask, ps, qs)\n",
    "    bet_pays = np.where(flip_mask, pays, -prices)\n",
    "    \n",
    "    bet_pays = bet_pays * bet_weights\n",
    "    \n",
    "    outcome_ps = bet_ps.prod(axis=1)\n",
    "    situation_p = outcome_ps.sum()\n",
    "    outcome_pays = bet_pays.sum(axis=1)\n",
    "    \n",
    "    sit_outcome_ps = outcome_ps / situation_p\n",
    "    \n",
    "    situation_exp = (outcome_pays * sit_outcome_ps).sum()\n",
    "    \n",
    "    return situation_p, situation_exp"
   ]
  },
  {
   "cell_type": "code",
   "execution_count": null,
   "id": "cc09bd8d-fad5-41c4-b92e-1b9890edb1fb",
   "metadata": {},
   "outputs": [],
   "source": []
  },
  {
   "cell_type": "code",
   "execution_count": 117,
   "id": "816e26f3-67c9-4234-908b-587733e5c39c",
   "metadata": {},
   "outputs": [
    {
     "data": {
      "text/html": [
       "<div>\n",
       "<style scoped>\n",
       "    .dataframe tbody tr th:only-of-type {\n",
       "        vertical-align: middle;\n",
       "    }\n",
       "\n",
       "    .dataframe tbody tr th {\n",
       "        vertical-align: top;\n",
       "    }\n",
       "\n",
       "    .dataframe thead th {\n",
       "        text-align: right;\n",
       "    }\n",
       "</style>\n",
       "<table border=\"1\" class=\"dataframe\">\n",
       "  <thead>\n",
       "    <tr style=\"text-align: right;\">\n",
       "      <th></th>\n",
       "      <th>hits</th>\n",
       "      <th>hit_percent</th>\n",
       "      <th>hits_p</th>\n",
       "      <th>hits_exp</th>\n",
       "    </tr>\n",
       "  </thead>\n",
       "  <tbody>\n",
       "    <tr>\n",
       "      <th>0</th>\n",
       "      <td>0</td>\n",
       "      <td>0.000000</td>\n",
       "      <td>0.01625</td>\n",
       "      <td>-1.31</td>\n",
       "    </tr>\n",
       "    <tr>\n",
       "      <th>1</th>\n",
       "      <td>1</td>\n",
       "      <td>0.333333</td>\n",
       "      <td>0.20375</td>\n",
       "      <td>-0.31</td>\n",
       "    </tr>\n",
       "    <tr>\n",
       "      <th>2</th>\n",
       "      <td>2</td>\n",
       "      <td>0.666667</td>\n",
       "      <td>0.54375</td>\n",
       "      <td>0.69</td>\n",
       "    </tr>\n",
       "    <tr>\n",
       "      <th>3</th>\n",
       "      <td>3</td>\n",
       "      <td>1.000000</td>\n",
       "      <td>0.23625</td>\n",
       "      <td>1.69</td>\n",
       "    </tr>\n",
       "  </tbody>\n",
       "</table>\n",
       "</div>"
      ],
      "text/plain": [
       "   hits  hit_percent   hits_p  hits_exp\n",
       "0     0     0.000000  0.01625     -1.31\n",
       "1     1     0.333333  0.20375     -0.31\n",
       "2     2     0.666667  0.54375      0.69\n",
       "3     3     1.000000  0.23625      1.69"
      ]
     },
     "execution_count": 117,
     "metadata": {},
     "output_type": "execute_result"
    }
   ],
   "source": [
    "situations = []\n",
    "for i in range(len(latest_p)+1):\n",
    "    situation_p, situation_exp = compute_situation_expectations(\n",
    "        latest_p.myp.values, latest_p.myq.values, latest_p.mktq.values, latest_p.mktp.values, np.ones(3), i)\n",
    "    situations.append(\n",
    "        dict(\n",
    "            hits=i,\n",
    "            hit_percent = i / len(latest_p),\n",
    "            hits_p = situation_p,\n",
    "            hits_exp = situation_exp\n",
    "        )\n",
    "    )\n",
    "situations = pd.DataFrame.from_records(situations)\n",
    "situations"
   ]
  },
  {
   "cell_type": "code",
   "execution_count": 118,
   "id": "0d89f120-efab-4aa5-81e5-38597d96ca5a",
   "metadata": {},
   "outputs": [
    {
     "data": {
      "text/plain": [
       "0.69"
      ]
     },
     "execution_count": 118,
     "metadata": {},
     "output_type": "execute_result"
    }
   ],
   "source": [
    "(situations.hits_p * situations.hits_exp).sum()"
   ]
  },
  {
   "cell_type": "code",
   "execution_count": null,
   "id": "a52184d9-2a16-4fa4-ac9e-27bc7f43f727",
   "metadata": {},
   "outputs": [],
   "source": []
  }
 ],
 "metadata": {
  "kernelspec": {
   "display_name": "Python 3 (ipykernel)",
   "language": "python",
   "name": "python3"
  },
  "language_info": {
   "codemirror_mode": {
    "name": "ipython",
    "version": 3
   },
   "file_extension": ".py",
   "mimetype": "text/x-python",
   "name": "python",
   "nbconvert_exporter": "python",
   "pygments_lexer": "ipython3",
   "version": "3.9.6"
  }
 },
 "nbformat": 4,
 "nbformat_minor": 5
}
