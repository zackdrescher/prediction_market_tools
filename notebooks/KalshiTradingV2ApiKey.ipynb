{
 "cells": [
  {
   "cell_type": "code",
   "execution_count": 1,
   "metadata": {},
   "outputs": [],
   "source": [
    "import os\n",
    "\n",
    "# Check if the current directory is 'notebooks'\n",
    "if os.path.basename(os.getcwd()) == 'notebooks':\n",
    "    # Change to the parent directory\n",
    "    os.chdir('..')"
   ]
  },
  {
   "cell_type": "code",
   "execution_count": 2,
   "metadata": {},
   "outputs": [],
   "source": [
    "# Welcome to the Kalshi REST v2 Starter Code!\n",
    "\n",
    "# pypi client: recommended for more advanced programmers\n",
    "# import kalshi_python\n",
    "\n",
    "# starter client: recommended for all levels of programming experience (what this client is implemented using)\n",
    "import time\n",
    "import uuid\n",
    "\n",
    "from kalshi_tracker.kalshi import get_kalshi"
   ]
  },
  {
   "cell_type": "code",
   "execution_count": 3,
   "metadata": {},
   "outputs": [],
   "source": [
    "exchange_client = get_kalshi()"
   ]
  },
  {
   "cell_type": "code",
   "execution_count": 4,
   "metadata": {},
   "outputs": [
    {
     "name": "stdout",
     "output_type": "stream",
     "text": [
      "{'exchange_active': True, 'trading_active': True}\n"
     ]
    }
   ],
   "source": [
    "# first we will check on the exchange status to confirm you are properly connected...\n",
    "print(exchange_client.get_exchange_status())"
   ]
  },
  {
   "cell_type": "code",
   "execution_count": 5,
   "metadata": {
    "tags": []
   },
   "outputs": [
    {
     "name": "stdout",
     "output_type": "stream",
     "text": [
      "keys: dict_keys(['markets', 'cursor'])\n",
      "\n",
      "number of objects: 100\n",
      "\n",
      "first market in payload: {'ticker': 'KXSECHUD-26DEC31-ST', 'event_ticker': 'KXSECHUD-26DEC31', 'market_type': 'binary', 'title': 'Will Scott Turner be confirmed as Secretary of Housing and Urban Development by Dec 31, 2026?', 'subtitle': 'Scott Turner', 'yes_sub_title': 'Scott Turner', 'no_sub_title': 'Scott Turner', 'open_time': '2024-11-23T14:35:26Z', 'close_time': '2027-01-01T04:59:00Z', 'expected_expiration_time': '2027-01-01T15:00:00Z', 'expiration_time': '2027-01-07T15:00:00Z', 'latest_expiration_time': '2027-01-07T15:00:00Z', 'settlement_timer_seconds': 3600, 'status': 'active', 'response_price_units': 'usd_cent', 'notional_value': 100, 'tick_size': 1, 'yes_bid': 2, 'yes_ask': 98, 'no_bid': 2, 'no_ask': 98, 'last_price': 99, 'previous_yes_bid': 0, 'previous_yes_ask': 0, 'previous_price': 0, 'volume': 5, 'volume_24h': 5, 'liquidity': 565532, 'open_interest': 5, 'result': '', 'can_close_early': True, 'expiration_value': '', 'category': 'Politics', 'risk_limit_cents': 0, 'strike_type': 'custom', 'custom_strike': {'Person': 'Scott Turner'}, 'rules_primary': 'If Scott Turner is the first person confirmed by the Senate to be Secretary of Housing and Urban Development between Issuance and December 31, 2026, then the market resolves to Yes.', 'rules_secondary': ''}\n",
      "\n",
      "cursor: CgsIl4ODugYQyM66CxIUS1hTUE9USUZZRC0yNE5PVjIyLUc\n"
     ]
    }
   ],
   "source": [
    "# You can discover markets through the get_markets endpoint...\n",
    "\n",
    "# and use query parameters to filter your search!\n",
    "market_params = {\n",
    "    \"limit\": 100,\n",
    "    \"cursor\": None,  # passing in the cursor from the previous get_markets call\n",
    "    \"event_ticker\": None,\n",
    "    \"series_ticker\": None,\n",
    "    \"max_close_ts\": None,  # pass in unix_ts\n",
    "    \"min_close_ts\": None,  # pass in unix_ts\n",
    "    \"status\": None,\n",
    "    \"tickers\": None,\n",
    "}\n",
    "\n",
    "markets_response = exchange_client.get_markets(**market_params)\n",
    "cursor = markets_response[\"cursor\"]\n",
    "\n",
    "print(\"keys:\", markets_response.keys())\n",
    "print()\n",
    "print(\"number of objects:\", len(markets_response[\"markets\"]))  # 100 objects!\n",
    "print()\n",
    "print(\"first market in payload:\", markets_response[\"markets\"][0])\n",
    "print()\n",
    "print(\"cursor:\", cursor)"
   ]
  },
  {
   "cell_type": "code",
   "execution_count": 6,
   "metadata": {},
   "outputs": [
    {
     "name": "stdout",
     "output_type": "stream",
     "text": [
      "keys: dict_keys(['markets', 'cursor'])\n",
      "\n",
      "number of objects: 100\n",
      "\n",
      "first market in market_response payload: {'ticker': 'KXSPOTIFYD-24NOV22-R', 'event_ticker': 'KXSPOTIFYD-24NOV22', 'market_type': 'binary', 'title': 'Will the top song on Nov 22, 2024 be reincarnated?', 'subtitle': ':: Kendrick Lamar', 'yes_sub_title': 'reincarnated', 'no_sub_title': 'reincarnated', 'open_time': '2024-11-22T17:45:00Z', 'close_time': '2024-11-23T04:59:00Z', 'expected_expiration_time': '2024-11-24T15:00:00Z', 'expiration_time': '2024-12-06T15:00:00Z', 'latest_expiration_time': '2024-12-06T15:00:00Z', 'settlement_timer_seconds': 300, 'status': 'finalized', 'response_price_units': 'usd_cent', 'notional_value': 100, 'tick_size': 1, 'yes_bid': 0, 'yes_ask': 1, 'no_bid': 99, 'no_ask': 100, 'last_price': 1, 'previous_yes_bid': 0, 'previous_yes_ask': 0, 'previous_price': 0, 'volume': 1031, 'volume_24h': 1031, 'liquidity': 0, 'open_interest': 1025, 'result': 'no', 'settlement_value': 0, 'can_close_early': True, 'expiration_value': '', 'category': 'Entertainment', 'risk_limit_cents': 0, 'strike_type': 'custom', 'custom_strike': {'Song/Artist': 'reincarnated'}, 'rules_primary': 'If reincarnated is #1 on the Daily Top Songs USA chart on the chart dated Nov 22, 2024, then the market resolves to Yes.', 'rules_secondary': 'The Underlying chart can be found here: https://charts.spotify.com/charts/view/regional-us-daily/latest'}\n",
      "\n",
      "new cursor! CgwI5q2BugYQmJej3QESG0tYQlRDRC0yNE5PVjI5MTctVDEwNjc0OS45OQ\n"
     ]
    }
   ],
   "source": [
    "# What are cursors and how do they work?\n",
    "\n",
    "# The Cursor represents a pointer to the next page of records in the pagination.\n",
    "# So this optional parameter, when filled, should be filled with the cursor string returned in a previous request to this end-point.\n",
    "# Filling this would basically tell the api to get the next page containing the number of records passed on the limit parameter.\n",
    "# On the other side not filling it tells the api you want to get the first page for another query.\n",
    "# The cursor does not store any filters, so if any filter parameters like tickers, max_ts or min_ts were passed in the original query they must be passed again.\n",
    "\n",
    "# Let's try it in action! Suppose we wanted to get the next 100 market objects...\n",
    "\n",
    "market_params = {\n",
    "    \"limit\": 100,\n",
    "    \"cursor\": cursor,  # passing in the cursor from the previous get_markets call\n",
    "    \"event_ticker\": None,\n",
    "    \"series_ticker\": None,\n",
    "    \"max_close_ts\": None,  # pass in unix_ts\n",
    "    \"min_close_ts\": None,  # pass in unix_ts\n",
    "    \"status\": None,\n",
    "    \"tickers\": None,\n",
    "}\n",
    "\n",
    "markets_response = exchange_client.get_markets(**market_params)\n",
    "cursor = markets_response[\"cursor\"]\n",
    "\n",
    "print(\"keys:\", markets_response.keys())\n",
    "print()\n",
    "print(\"number of objects:\", len(markets_response[\"markets\"]))  # 100 objects!\n",
    "print()\n",
    "print(\n",
    "    \"first market in market_response payload:\",\n",
    "    markets_response[\"markets\"][0],\n",
    ")  # new markets!\n",
    "print()\n",
    "print(\"new cursor!\", cursor)"
   ]
  },
  {
   "cell_type": "code",
   "execution_count": 7,
   "metadata": {},
   "outputs": [
    {
     "name": "stdout",
     "output_type": "stream",
     "text": [
      "keys: dict_keys(['event', 'markets'])\n",
      "\n",
      "event object: {'event_ticker': 'KXSPOTIFYD-24NOV22', 'series_ticker': 'KXSPOTIFYD', 'sub_title': 'On Nov 22, 2024 Chart', 'title': 'Top song on Spotify USA Chart on Nov 22, 2024?', 'mutually_exclusive': True, 'category': 'Entertainment'}\n",
      "\n",
      "first market in event_response payload: {'ticker': 'KXSPOTIFYD-24NOV22-THA', 'event_ticker': 'KXSPOTIFYD-24NOV22', 'market_type': 'binary', 'title': '', 'subtitle': ':: Gracie Abrams', 'yes_sub_title': \"That's So True\", 'no_sub_title': \"That's So True\", 'open_time': '2024-11-21T16:30:00Z', 'close_time': '2024-11-23T04:59:00Z', 'expected_expiration_time': '2024-11-24T15:00:00Z', 'expiration_time': '2024-12-06T15:00:00Z', 'latest_expiration_time': '2024-12-06T15:00:00Z', 'settlement_timer_seconds': 300, 'status': 'finalized', 'response_price_units': 'usd_cent', 'notional_value': 100, 'tick_size': 1, 'yes_bid': 4, 'yes_ask': 14, 'no_bid': 86, 'no_ask': 96, 'last_price': 14, 'previous_yes_bid': 0, 'previous_yes_ask': 0, 'previous_price': 0, 'volume': 222216, 'volume_24h': 214365, 'liquidity': -13593, 'open_interest': 99987, 'result': 'no', 'settlement_value': 0, 'can_close_early': True, 'expiration_value': '', 'category': '', 'risk_limit_cents': 0, 'strike_type': 'custom', 'custom_strike': {'Song/Artist': \"That's So True\"}, 'rules_primary': \"If That's So True is #1 on the Daily Top Songs USA chart on the chart dated Nov 22, 2024, then the market resolves to Yes.\", 'rules_secondary': 'The Underlying chart can be found here: https://charts.spotify.com/charts/view/regional-us-daily/latest'}\n"
     ]
    }
   ],
   "source": [
    "# Next, let's look at event level data by passing an event ticker to the get_event endpoint...\n",
    "\n",
    "event_ticker = markets_response[\"markets\"][5][\"event_ticker\"]\n",
    "event_params = {\"event_ticker\": event_ticker}\n",
    "event_response = exchange_client.get_event(**event_params)\n",
    "\n",
    "print(\"keys:\", event_response.keys())\n",
    "print()\n",
    "print(\"event object:\", event_response[\"event\"])\n",
    "print()\n",
    "print(\"first market in event_response payload:\", event_response[\"markets\"][0])"
   ]
  },
  {
   "cell_type": "code",
   "execution_count": 8,
   "metadata": {},
   "outputs": [
    {
     "name": "stdout",
     "output_type": "stream",
     "text": [
      "keys: dict_keys(['series'])\n",
      "\n",
      "series object: {'ticker': 'KXSPOTIFYD', 'frequency': 'daily', 'title': 'Daily USA Spotify chart', 'category': 'Entertainment', 'tags': ['Music', 'Music charts'], 'settlement_sources': [{'url': 'https://charts.spotify.com/charts/view/regional-us-daily/latest', 'name': 'Spotify'}], 'contract_url': 'https://kalshi-public-docs.s3.us-east-1.amazonaws.com/regulatory/product-certifications/SPOTIFYCHART.pdf'}\n",
      "\n"
     ]
    }
   ],
   "source": [
    "# Next, let's look at series level data by passing a series ticker to the get_series endpoint!\n",
    "series_ticker = event_response[\"event\"][\"series_ticker\"]\n",
    "series_params = {\"series_ticker\": series_ticker}\n",
    "series_response = exchange_client.get_series(**series_params)\n",
    "\n",
    "print(\"keys:\", series_response.keys())\n",
    "print()\n",
    "print(\"series object:\", series_response[\"series\"])\n",
    "print()"
   ]
  },
  {
   "cell_type": "code",
   "execution_count": 9,
   "metadata": {},
   "outputs": [
    {
     "ename": "HttpError",
     "evalue": "HttpError(404 Not Found)",
     "output_type": "error",
     "traceback": [
      "\u001b[0;31m---------------------------------------------------------------------------\u001b[0m",
      "\u001b[0;31mHttpError\u001b[0m                                 Traceback (most recent call last)",
      "Cell \u001b[0;32mIn[9], line 11\u001b[0m\n\u001b[1;32m      2\u001b[0m ticker \u001b[38;5;241m=\u001b[39m \u001b[38;5;124m\"\u001b[39m\u001b[38;5;124mNGDP-22-C7.5\u001b[39m\u001b[38;5;124m\"\u001b[39m\n\u001b[1;32m      4\u001b[0m market_history_params \u001b[38;5;241m=\u001b[39m {\n\u001b[1;32m      5\u001b[0m     \u001b[38;5;124m\"\u001b[39m\u001b[38;5;124mticker\u001b[39m\u001b[38;5;124m\"\u001b[39m: ticker,\n\u001b[1;32m      6\u001b[0m     \u001b[38;5;124m\"\u001b[39m\u001b[38;5;124mlimit\u001b[39m\u001b[38;5;124m\"\u001b[39m: \u001b[38;5;241m100\u001b[39m,\n\u001b[0;32m   (...)\u001b[0m\n\u001b[1;32m      9\u001b[0m     \u001b[38;5;124m\"\u001b[39m\u001b[38;5;124mmin_ts\u001b[39m\u001b[38;5;124m\"\u001b[39m: \u001b[38;5;28mround\u001b[39m(time\u001b[38;5;241m.\u001b[39mtime() \u001b[38;5;241m-\u001b[39m \u001b[38;5;241m1000000\u001b[39m),  \u001b[38;5;66;03m# passing a recent unix_ts\u001b[39;00m\n\u001b[1;32m     10\u001b[0m }\n\u001b[0;32m---> 11\u001b[0m market_history_response \u001b[38;5;241m=\u001b[39m \u001b[43mexchange_client\u001b[49m\u001b[38;5;241;43m.\u001b[39;49m\u001b[43mget_market_history\u001b[49m\u001b[43m(\u001b[49m\u001b[38;5;241;43m*\u001b[39;49m\u001b[38;5;241;43m*\u001b[39;49m\u001b[43mmarket_history_params\u001b[49m\u001b[43m)\u001b[49m\n\u001b[1;32m     13\u001b[0m \u001b[38;5;28mprint\u001b[39m(\u001b[38;5;124m\"\u001b[39m\u001b[38;5;124mkeys:\u001b[39m\u001b[38;5;124m\"\u001b[39m, market_history_response\u001b[38;5;241m.\u001b[39mkeys())\n\u001b[1;32m     14\u001b[0m \u001b[38;5;28mprint\u001b[39m()\n",
      "File \u001b[0;32m~/personal/prediction_market_tools/kalshi_tracker/kalshi/kalshi_client/exchange_client.py:92\u001b[0m, in \u001b[0;36mExchangeClient.get_market_history\u001b[0;34m(self, ticker, limit, cursor, max_ts, min_ts)\u001b[0m\n\u001b[1;32m     90\u001b[0m query_string \u001b[38;5;241m=\u001b[39m \u001b[38;5;28mself\u001b[39m\u001b[38;5;241m.\u001b[39mquery_generation(params\u001b[38;5;241m=\u001b[39mrelevant_params)\n\u001b[1;32m     91\u001b[0m market_url \u001b[38;5;241m=\u001b[39m \u001b[38;5;28mself\u001b[39m\u001b[38;5;241m.\u001b[39mget_market_url(ticker\u001b[38;5;241m=\u001b[39mticker)\n\u001b[0;32m---> 92\u001b[0m \u001b[38;5;28;01mreturn\u001b[39;00m \u001b[38;5;28;43mself\u001b[39;49m\u001b[38;5;241;43m.\u001b[39;49m\u001b[43mget\u001b[49m\u001b[43m(\u001b[49m\u001b[43mmarket_url\u001b[49m\u001b[43m \u001b[49m\u001b[38;5;241;43m+\u001b[39;49m\u001b[43m \u001b[49m\u001b[38;5;124;43m\"\u001b[39;49m\u001b[38;5;124;43m/history\u001b[39;49m\u001b[38;5;124;43m\"\u001b[39;49m\u001b[43m \u001b[49m\u001b[38;5;241;43m+\u001b[39;49m\u001b[43m \u001b[49m\u001b[43mquery_string\u001b[49m\u001b[43m)\u001b[49m\n",
      "File \u001b[0;32m~/personal/prediction_market_tools/kalshi_tracker/kalshi/kalshi_client/kalshi_client.py:93\u001b[0m, in \u001b[0;36mKalshiClient.get\u001b[0;34m(self, path, params)\u001b[0m\n\u001b[1;32m     86\u001b[0m \u001b[38;5;28mself\u001b[39m\u001b[38;5;241m.\u001b[39mrate_limit()\n\u001b[1;32m     88\u001b[0m response \u001b[38;5;241m=\u001b[39m requests\u001b[38;5;241m.\u001b[39mget(\n\u001b[1;32m     89\u001b[0m     \u001b[38;5;28mself\u001b[39m\u001b[38;5;241m.\u001b[39mhost \u001b[38;5;241m+\u001b[39m path,\n\u001b[1;32m     90\u001b[0m     headers\u001b[38;5;241m=\u001b[39m\u001b[38;5;28mself\u001b[39m\u001b[38;5;241m.\u001b[39mrequest_headers(\u001b[38;5;124m\"\u001b[39m\u001b[38;5;124mGET\u001b[39m\u001b[38;5;124m\"\u001b[39m, path),\n\u001b[1;32m     91\u001b[0m     params\u001b[38;5;241m=\u001b[39mparams,\n\u001b[1;32m     92\u001b[0m )\n\u001b[0;32m---> 93\u001b[0m \u001b[38;5;28;43mself\u001b[39;49m\u001b[38;5;241;43m.\u001b[39;49m\u001b[43mraise_if_bad_response\u001b[49m\u001b[43m(\u001b[49m\u001b[43mresponse\u001b[49m\u001b[43m)\u001b[49m\n\u001b[1;32m     94\u001b[0m \u001b[38;5;28;01mreturn\u001b[39;00m response\u001b[38;5;241m.\u001b[39mjson()\n",
      "File \u001b[0;32m~/personal/prediction_market_tools/kalshi_tracker/kalshi/kalshi_client/kalshi_client.py:161\u001b[0m, in \u001b[0;36mKalshiClient.raise_if_bad_response\u001b[0;34m(self, response)\u001b[0m\n\u001b[1;32m    159\u001b[0m \u001b[38;5;250m\u001b[39m\u001b[38;5;124;03m\"\"\"Raise an HttpError if the response is not 2XX.\"\"\"\u001b[39;00m\n\u001b[1;32m    160\u001b[0m \u001b[38;5;28;01mif\u001b[39;00m response\u001b[38;5;241m.\u001b[39mstatus_code \u001b[38;5;129;01mnot\u001b[39;00m \u001b[38;5;129;01min\u001b[39;00m \u001b[38;5;28mrange\u001b[39m(\u001b[38;5;241m200\u001b[39m, \u001b[38;5;241m299\u001b[39m):\n\u001b[0;32m--> 161\u001b[0m     \u001b[38;5;28;01mraise\u001b[39;00m HttpError(response\u001b[38;5;241m.\u001b[39mreason, response\u001b[38;5;241m.\u001b[39mstatus_code)\n",
      "\u001b[0;31mHttpError\u001b[0m: HttpError(404 Not Found)"
     ]
    }
   ],
   "source": [
    "# Next let's look at the recent market history for a market\n",
    "ticker = \"NGDP-22-C7.5\"\n",
    "\n",
    "market_history_params = {\n",
    "    \"ticker\": ticker,\n",
    "    \"limit\": 100,\n",
    "    \"cursor\": None,\n",
    "    \"max_ts\": None,  # pass in unix_ts\n",
    "    \"min_ts\": round(time.time() - 1000000),  # passing a recent unix_ts\n",
    "}\n",
    "market_history_response = exchange_client.get_market_history(**market_history_params)\n",
    "\n",
    "print(\"keys:\", market_history_response.keys())\n",
    "print()\n",
    "print(\"most recent market history object:\", market_history_response[\"history\"][-1])\n",
    "print()\n",
    "\n",
    "# and then also look at the most current view of the orderbook\n",
    "market_history_params = {\"ticker\": ticker, \"depth\": 30}\n",
    "orderbook_response = exchange_client.get_orderbook(**market_history_params)\n",
    "\n",
    "print(\"keys:\", orderbook_response.keys())\n",
    "print()\n",
    "print(\"orderbook object:\", orderbook_response)\n",
    "print()"
   ]
  },
  {
   "cell_type": "code",
   "execution_count": null,
   "metadata": {},
   "outputs": [],
   "source": [
    "# Now let's suppose we wanted to place a trade on one of these markets...\n",
    "# to do so, we would first want to check out available balance...\n",
    "\n",
    "current_balance = exchange_client.get_balance()\n",
    "current_balance"
   ]
  },
  {
   "cell_type": "code",
   "execution_count": null,
   "metadata": {},
   "outputs": [],
   "source": [
    "# Now that you have some balance, you might want to see how your current positions are doing...\n",
    "\n",
    "positions_params = {\n",
    "    \"limit\": None,\n",
    "    \"cursor\": None,\n",
    "    \"settlement_status\": None,\n",
    "    \"ticker\": None,\n",
    "    \"event_ticker\": None,\n",
    "}\n",
    "\n",
    "current_position = exchange_client.get_positions(**positions_params)\n",
    "current_position"
   ]
  },
  {
   "cell_type": "code",
   "execution_count": null,
   "metadata": {},
   "outputs": [],
   "source": [
    "# seems like some of your recent orders had been filled. To check on those we use the get_positions endpoint ...\n",
    "\n",
    "fills_params = {\n",
    "    \"ticker\": None,\n",
    "    \"order_id\": None,\n",
    "    \"min_ts\": None,\n",
    "    \"max_ts\": None,\n",
    "    \"limit\": None,\n",
    "    \"cursor\": None,\n",
    "}\n",
    "\n",
    "fills = exchange_client.get_fills(**fills_params)\n",
    "fills"
   ]
  },
  {
   "cell_type": "code",
   "execution_count": null,
   "metadata": {},
   "outputs": [],
   "source": [
    "# you may even want to check on some of your recent positions settled...\n",
    "\n",
    "settlement_params = {\"limit\": None, \"cursor\": None}\n",
    "\n",
    "settlements = exchange_client.get_portfolio_settlements(**settlement_params)\n",
    "settlements"
   ]
  },
  {
   "cell_type": "code",
   "execution_count": null,
   "metadata": {},
   "outputs": [],
   "source": [
    "# Now onto placing an order...\n",
    "# There are many different ways to think about placing orders at Kalshi.\n",
    "# The following param examples will walk through some of those\n",
    "\n",
    "# Limit buy order for 10 units at 30c No on GDPW-22-A3\n",
    "\n",
    "ticker = \"TESTING-5\"\n",
    "\n",
    "order_params = {\n",
    "    \"ticker\": ticker,\n",
    "    \"client_order_id\": str(uuid.uuid4()),\n",
    "    \"type\": \"limit\",\n",
    "    \"action\": \"buy\",\n",
    "    \"side\": \"no\",\n",
    "    \"count\": 10,\n",
    "    \"yes_price\": None,  # yes_price = 100 - no_price\n",
    "    \"no_price\": 30,  # no_price = 100 - yes_price\n",
    "    \"expiration_ts\": None,\n",
    "    \"sell_position_floor\": None,\n",
    "    \"buy_max_cost\": None,\n",
    "}\n",
    "\n",
    "exchange_client.create_order(**order_params)\n",
    "\n",
    "# EQUIVALENTLY, because buying No is equivalent to selling yes...\n",
    "\n",
    "# order_params = {'ticker':ticker,\n",
    "#                     'client_order_id':str(uuid.uuid4()),\n",
    "#                     'type':'limit',\n",
    "#                     'action':'sell',\n",
    "#                     'side':'yes',\n",
    "#                     'count':10,\n",
    "#                     'yes_price':None, # yes_price = 100 - no_price\n",
    "#                     'no_price':30, # no_price = 100 - yes_price\n",
    "#                     'expiration_ts':None,\n",
    "#                     'sell_position_floor':None,\n",
    "#                     'buy_max_cost':None}\n",
    "\n",
    "# exchange_client.create_order(**order_params)\n",
    "\n",
    "\n",
    "# # Market sell order for 12 units Yes on GDPW-22-A3, without flipping position\n",
    "\n",
    "# order_params = {'ticker':ticker,\n",
    "#                     'client_order_id':str(uuid.uuid4()),\n",
    "#                     'type':'market',\n",
    "#                     'action':'sell',\n",
    "#                     'side':'yes',\n",
    "#                     'count':12,\n",
    "#                     'yes_price':1,\n",
    "#                     'no_price':None,\n",
    "#                     'expiration_ts':None,\n",
    "#                     'sell_position_floor':0,\n",
    "#                     'buy_max_cost':None}\n",
    "\n",
    "# exchange_client.create_order(**order_params)\n",
    "\n",
    "# # EQUIVALENTLY, because buying No is equivalent to selling yes...\n",
    "\n",
    "# order_params = {'ticker':ticker,\n",
    "#                     'client_order_id':str(uuid.uuid4()),\n",
    "#                     'type':'market',\n",
    "#                     'action':'buy',\n",
    "#                     'side':'no',\n",
    "#                     'count':12,\n",
    "#                     'yes_price':1,\n",
    "#                     'no_price':None,\n",
    "#                     'expiration_ts':None,\n",
    "#                     'sell_position_floor':0,\n",
    "#                     'buy_max_cost':None}\n",
    "\n",
    "# exchange_client.create_order(**order_params)\n"
   ]
  },
  {
   "cell_type": "code",
   "execution_count": null,
   "metadata": {},
   "outputs": [],
   "source": []
  }
 ],
 "metadata": {
  "kernelspec": {
   "display_name": ".venv",
   "language": "python",
   "name": "python3"
  },
  "language_info": {
   "codemirror_mode": {
    "name": "ipython",
    "version": 3
   },
   "file_extension": ".py",
   "mimetype": "text/x-python",
   "name": "python",
   "nbconvert_exporter": "python",
   "pygments_lexer": "ipython3",
   "version": "3.11.6"
  }
 },
 "nbformat": 4,
 "nbformat_minor": 4
}
