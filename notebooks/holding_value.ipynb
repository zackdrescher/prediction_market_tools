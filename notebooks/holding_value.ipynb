{
 "cells": [
  {
   "cell_type": "code",
   "execution_count": 1,
   "id": "ef0f4dba-38a4-47be-818b-29cfff9ae877",
   "metadata": {},
   "outputs": [
    {
     "data": {
      "text/plain": [
       "'/home/zack/personal/prediction_market_tools'"
      ]
     },
     "execution_count": 1,
     "metadata": {},
     "output_type": "execute_result"
    }
   ],
   "source": [
    "import os\n",
    "\n",
    "if os.path.basename(os.getcwd()) == 'notebooks':\n",
    "    os.chdir('..')\n",
    "    \n",
    "os.getcwd()"
   ]
  },
  {
   "cell_type": "code",
   "execution_count": 2,
   "id": "6d08fbcb-c46e-42fe-95af-46185037f7dc",
   "metadata": {},
   "outputs": [],
   "source": [
    "import pandas as pd"
   ]
  },
  {
   "cell_type": "code",
   "execution_count": 3,
   "id": "5d0323d2-e097-4a08-94f9-4df0ddf9e7b3",
   "metadata": {},
   "outputs": [],
   "source": [
    "p = pd.read_csv('data/raw/predsnprices.csv')"
   ]
  },
  {
   "cell_type": "code",
   "execution_count": 4,
   "id": "0359c273-67b1-4789-aa69-fe47ca66a0c5",
   "metadata": {},
   "outputs": [],
   "source": [
    "from src import expected_value"
   ]
  },
  {
   "cell_type": "code",
   "execution_count": 5,
   "id": "454225ea-d9ea-4946-8a7e-4ce00dfd4338",
   "metadata": {},
   "outputs": [],
   "source": [
    "p, latest_p = expected_value.prep_prices_csv(p)"
   ]
  },
  {
   "cell_type": "code",
   "execution_count": 6,
   "id": "8576d66b-2fa7-4cf5-8b0a-2306e984ff15",
   "metadata": {},
   "outputs": [
    {
     "data": {
      "text/html": [
       "<div>\n",
       "<style scoped>\n",
       "    .dataframe tbody tr th:only-of-type {\n",
       "        vertical-align: middle;\n",
       "    }\n",
       "\n",
       "    .dataframe tbody tr th {\n",
       "        vertical-align: top;\n",
       "    }\n",
       "\n",
       "    .dataframe thead th {\n",
       "        text-align: right;\n",
       "    }\n",
       "</style>\n",
       "<table border=\"1\" class=\"dataframe\">\n",
       "  <thead>\n",
       "    <tr style=\"text-align: right;\">\n",
       "      <th></th>\n",
       "      <th>symbol</th>\n",
       "      <th>date</th>\n",
       "      <th>yesPrice</th>\n",
       "      <th>noPrice</th>\n",
       "      <th>myBet</th>\n",
       "      <th>purchase</th>\n",
       "      <th>qty</th>\n",
       "    </tr>\n",
       "  </thead>\n",
       "  <tbody>\n",
       "    <tr>\n",
       "      <th>0</th>\n",
       "      <td>lcase-001</td>\n",
       "      <td>2021-09-02</td>\n",
       "      <td>0.58</td>\n",
       "      <td>0.44</td>\n",
       "      <td>0.72</td>\n",
       "      <td>NaN</td>\n",
       "      <td>NaN</td>\n",
       "    </tr>\n",
       "    <tr>\n",
       "      <th>1</th>\n",
       "      <td>lcase-001</td>\n",
       "      <td>2021-09-09</td>\n",
       "      <td>0.19</td>\n",
       "      <td>0.82</td>\n",
       "      <td>0.35</td>\n",
       "      <td>NaN</td>\n",
       "      <td>NaN</td>\n",
       "    </tr>\n",
       "    <tr>\n",
       "      <th>2</th>\n",
       "      <td>voch-001</td>\n",
       "      <td>2021-09-09</td>\n",
       "      <td>0.35</td>\n",
       "      <td>0.66</td>\n",
       "      <td>0.25</td>\n",
       "      <td>NaN</td>\n",
       "      <td>NaN</td>\n",
       "    </tr>\n",
       "    <tr>\n",
       "      <th>3</th>\n",
       "      <td>nyschl-001</td>\n",
       "      <td>2021-09-09</td>\n",
       "      <td>0.84</td>\n",
       "      <td>0.18</td>\n",
       "      <td>0.90</td>\n",
       "      <td>NaN</td>\n",
       "      <td>NaN</td>\n",
       "    </tr>\n",
       "    <tr>\n",
       "      <th>4</th>\n",
       "      <td>wkcase-004</td>\n",
       "      <td>2021-09-13</td>\n",
       "      <td>0.57</td>\n",
       "      <td>0.45</td>\n",
       "      <td>0.63</td>\n",
       "      <td>NaN</td>\n",
       "      <td>NaN</td>\n",
       "    </tr>\n",
       "    <tr>\n",
       "      <th>5</th>\n",
       "      <td>lcase-001</td>\n",
       "      <td>2021-09-14</td>\n",
       "      <td>0.11</td>\n",
       "      <td>0.91</td>\n",
       "      <td>0.15</td>\n",
       "      <td>NaN</td>\n",
       "      <td>NaN</td>\n",
       "    </tr>\n",
       "    <tr>\n",
       "      <th>6</th>\n",
       "      <td>voch-001</td>\n",
       "      <td>2021-09-14</td>\n",
       "      <td>0.36</td>\n",
       "      <td>0.66</td>\n",
       "      <td>0.25</td>\n",
       "      <td>n</td>\n",
       "      <td>98.0</td>\n",
       "    </tr>\n",
       "    <tr>\n",
       "      <th>7</th>\n",
       "      <td>nyschl-001</td>\n",
       "      <td>2021-09-14</td>\n",
       "      <td>0.84</td>\n",
       "      <td>0.17</td>\n",
       "      <td>0.90</td>\n",
       "      <td>y</td>\n",
       "      <td>125.0</td>\n",
       "    </tr>\n",
       "    <tr>\n",
       "      <th>8</th>\n",
       "      <td>wkcase-004</td>\n",
       "      <td>2021-09-14</td>\n",
       "      <td>0.74</td>\n",
       "      <td>0.29</td>\n",
       "      <td>NaN</td>\n",
       "      <td>NaN</td>\n",
       "      <td>NaN</td>\n",
       "    </tr>\n",
       "    <tr>\n",
       "      <th>9</th>\n",
       "      <td>case-038</td>\n",
       "      <td>2021-09-14</td>\n",
       "      <td>0.07</td>\n",
       "      <td>0.95</td>\n",
       "      <td>0.05</td>\n",
       "      <td>NaN</td>\n",
       "      <td>NaN</td>\n",
       "    </tr>\n",
       "    <tr>\n",
       "      <th>10</th>\n",
       "      <td>case-039</td>\n",
       "      <td>2021-09-14</td>\n",
       "      <td>0.50</td>\n",
       "      <td>0.50</td>\n",
       "      <td>0.55</td>\n",
       "      <td>NaN</td>\n",
       "      <td>NaN</td>\n",
       "    </tr>\n",
       "    <tr>\n",
       "      <th>11</th>\n",
       "      <td>case-039</td>\n",
       "      <td>2021-09-14</td>\n",
       "      <td>0.53</td>\n",
       "      <td>0.49</td>\n",
       "      <td>0.40</td>\n",
       "      <td>NaN</td>\n",
       "      <td>NaN</td>\n",
       "    </tr>\n",
       "  </tbody>\n",
       "</table>\n",
       "</div>"
      ],
      "text/plain": [
       "        symbol       date  yesPrice  noPrice  myBet purchase    qty\n",
       "0    lcase-001 2021-09-02      0.58     0.44   0.72      NaN    NaN\n",
       "1    lcase-001 2021-09-09      0.19     0.82   0.35      NaN    NaN\n",
       "2     voch-001 2021-09-09      0.35     0.66   0.25      NaN    NaN\n",
       "3   nyschl-001 2021-09-09      0.84     0.18   0.90      NaN    NaN\n",
       "4   wkcase-004 2021-09-13      0.57     0.45   0.63      NaN    NaN\n",
       "5    lcase-001 2021-09-14      0.11     0.91   0.15      NaN    NaN\n",
       "6     voch-001 2021-09-14      0.36     0.66   0.25        n   98.0\n",
       "7   nyschl-001 2021-09-14      0.84     0.17   0.90        y  125.0\n",
       "8   wkcase-004 2021-09-14      0.74     0.29    NaN      NaN    NaN\n",
       "9     case-038 2021-09-14      0.07     0.95   0.05      NaN    NaN\n",
       "10    case-039 2021-09-14      0.50     0.50   0.55      NaN    NaN\n",
       "11    case-039 2021-09-14      0.53     0.49   0.40      NaN    NaN"
      ]
     },
     "execution_count": 6,
     "metadata": {},
     "output_type": "execute_result"
    }
   ],
   "source": [
    "p"
   ]
  },
  {
   "cell_type": "code",
   "execution_count": 7,
   "id": "48f2d6dc-fcc2-4503-bf30-ab71d69e03f7",
   "metadata": {},
   "outputs": [],
   "source": [
    "positions = p[~p.purchase.isna()]"
   ]
  },
  {
   "cell_type": "code",
   "execution_count": 8,
   "id": "ee1b3e6d-2213-4ce7-add7-a82daa0227a8",
   "metadata": {},
   "outputs": [
    {
     "data": {
      "text/html": [
       "<div>\n",
       "<style scoped>\n",
       "    .dataframe tbody tr th:only-of-type {\n",
       "        vertical-align: middle;\n",
       "    }\n",
       "\n",
       "    .dataframe tbody tr th {\n",
       "        vertical-align: top;\n",
       "    }\n",
       "\n",
       "    .dataframe thead th {\n",
       "        text-align: right;\n",
       "    }\n",
       "</style>\n",
       "<table border=\"1\" class=\"dataframe\">\n",
       "  <thead>\n",
       "    <tr style=\"text-align: right;\">\n",
       "      <th></th>\n",
       "      <th>symbol</th>\n",
       "      <th>date</th>\n",
       "      <th>yesPrice</th>\n",
       "      <th>noPrice</th>\n",
       "      <th>myBet</th>\n",
       "      <th>purchase</th>\n",
       "      <th>qty</th>\n",
       "    </tr>\n",
       "  </thead>\n",
       "  <tbody>\n",
       "    <tr>\n",
       "      <th>6</th>\n",
       "      <td>voch-001</td>\n",
       "      <td>2021-09-14</td>\n",
       "      <td>0.36</td>\n",
       "      <td>0.66</td>\n",
       "      <td>0.25</td>\n",
       "      <td>n</td>\n",
       "      <td>98.0</td>\n",
       "    </tr>\n",
       "    <tr>\n",
       "      <th>7</th>\n",
       "      <td>nyschl-001</td>\n",
       "      <td>2021-09-14</td>\n",
       "      <td>0.84</td>\n",
       "      <td>0.17</td>\n",
       "      <td>0.90</td>\n",
       "      <td>y</td>\n",
       "      <td>125.0</td>\n",
       "    </tr>\n",
       "  </tbody>\n",
       "</table>\n",
       "</div>"
      ],
      "text/plain": [
       "       symbol       date  yesPrice  noPrice  myBet purchase    qty\n",
       "6    voch-001 2021-09-14      0.36     0.66   0.25        n   98.0\n",
       "7  nyschl-001 2021-09-14      0.84     0.17   0.90        y  125.0"
      ]
     },
     "execution_count": 8,
     "metadata": {},
     "output_type": "execute_result"
    }
   ],
   "source": [
    "positions"
   ]
  },
  {
   "cell_type": "code",
   "execution_count": 9,
   "id": "52abe6a7-feca-44ed-8a8f-410009c12514",
   "metadata": {},
   "outputs": [
    {
     "name": "stderr",
     "output_type": "stream",
     "text": [
      "/tmp/ipykernel_17419/3622336434.py:1: SettingWithCopyWarning: \n",
      "A value is trying to be set on a copy of a slice from a DataFrame.\n",
      "Try using .loc[row_indexer,col_indexer] = value instead\n",
      "\n",
      "See the caveats in the documentation: https://pandas.pydata.org/pandas-docs/stable/user_guide/indexing.html#returning-a-view-versus-a-copy\n",
      "  positions['price'] = positions.yesPrice.where(positions.purchase == 'y', positions.noPrice)\n",
      "/tmp/ipykernel_17419/3622336434.py:2: SettingWithCopyWarning: \n",
      "A value is trying to be set on a copy of a slice from a DataFrame.\n",
      "Try using .loc[row_indexer,col_indexer] = value instead\n",
      "\n",
      "See the caveats in the documentation: https://pandas.pydata.org/pandas-docs/stable/user_guide/indexing.html#returning-a-view-versus-a-copy\n",
      "  positions['prob'] = positions.myBet.where(positions.purchase == 'y', 1 - positions.myBet)\n"
     ]
    },
    {
     "data": {
      "text/html": [
       "<div>\n",
       "<style scoped>\n",
       "    .dataframe tbody tr th:only-of-type {\n",
       "        vertical-align: middle;\n",
       "    }\n",
       "\n",
       "    .dataframe tbody tr th {\n",
       "        vertical-align: top;\n",
       "    }\n",
       "\n",
       "    .dataframe thead th {\n",
       "        text-align: right;\n",
       "    }\n",
       "</style>\n",
       "<table border=\"1\" class=\"dataframe\">\n",
       "  <thead>\n",
       "    <tr style=\"text-align: right;\">\n",
       "      <th></th>\n",
       "      <th>symbol</th>\n",
       "      <th>date</th>\n",
       "      <th>yesPrice</th>\n",
       "      <th>noPrice</th>\n",
       "      <th>myBet</th>\n",
       "      <th>purchase</th>\n",
       "      <th>qty</th>\n",
       "      <th>price</th>\n",
       "      <th>prob</th>\n",
       "    </tr>\n",
       "  </thead>\n",
       "  <tbody>\n",
       "    <tr>\n",
       "      <th>6</th>\n",
       "      <td>voch-001</td>\n",
       "      <td>2021-09-14</td>\n",
       "      <td>0.36</td>\n",
       "      <td>0.66</td>\n",
       "      <td>0.25</td>\n",
       "      <td>n</td>\n",
       "      <td>98.0</td>\n",
       "      <td>0.66</td>\n",
       "      <td>0.75</td>\n",
       "    </tr>\n",
       "    <tr>\n",
       "      <th>7</th>\n",
       "      <td>nyschl-001</td>\n",
       "      <td>2021-09-14</td>\n",
       "      <td>0.84</td>\n",
       "      <td>0.17</td>\n",
       "      <td>0.90</td>\n",
       "      <td>y</td>\n",
       "      <td>125.0</td>\n",
       "      <td>0.84</td>\n",
       "      <td>0.90</td>\n",
       "    </tr>\n",
       "  </tbody>\n",
       "</table>\n",
       "</div>"
      ],
      "text/plain": [
       "       symbol       date  yesPrice  noPrice  myBet purchase    qty  price  \\\n",
       "6    voch-001 2021-09-14      0.36     0.66   0.25        n   98.0   0.66   \n",
       "7  nyschl-001 2021-09-14      0.84     0.17   0.90        y  125.0   0.84   \n",
       "\n",
       "   prob  \n",
       "6  0.75  \n",
       "7  0.90  "
      ]
     },
     "execution_count": 9,
     "metadata": {},
     "output_type": "execute_result"
    }
   ],
   "source": [
    "positions['price'] = positions.yesPrice.where(positions.purchase == 'y', positions.noPrice)\n",
    "positions['prob'] = positions.myBet.where(positions.purchase == 'y', 1 - positions.myBet)\n",
    "positions"
   ]
  },
  {
   "cell_type": "code",
   "execution_count": 10,
   "id": "a52184d9-2a16-4fa4-ac9e-27bc7f43f727",
   "metadata": {},
   "outputs": [],
   "source": [
    "exp, situations = expected_value.compute_wager_expectations(positions.prob.values, positions.price.values, positions.qty.values)"
   ]
  },
  {
   "cell_type": "code",
   "execution_count": 11,
   "id": "d3e5bda8-6d94-451a-b38e-900d02d3a985",
   "metadata": {},
   "outputs": [
    {
     "data": {
      "text/plain": [
       "16.320000000000007"
      ]
     },
     "execution_count": 11,
     "metadata": {},
     "output_type": "execute_result"
    }
   ],
   "source": [
    "exp"
   ]
  },
  {
   "cell_type": "code",
   "execution_count": 12,
   "id": "ee5a751b-9bec-4890-bdde-71a28e725def",
   "metadata": {},
   "outputs": [
    {
     "data": {
      "text/html": [
       "<div>\n",
       "<style scoped>\n",
       "    .dataframe tbody tr th:only-of-type {\n",
       "        vertical-align: middle;\n",
       "    }\n",
       "\n",
       "    .dataframe tbody tr th {\n",
       "        vertical-align: top;\n",
       "    }\n",
       "\n",
       "    .dataframe thead th {\n",
       "        text-align: right;\n",
       "    }\n",
       "</style>\n",
       "<table border=\"1\" class=\"dataframe\">\n",
       "  <thead>\n",
       "    <tr style=\"text-align: right;\">\n",
       "      <th></th>\n",
       "      <th>hits</th>\n",
       "      <th>hit_percent</th>\n",
       "      <th>hits_p</th>\n",
       "      <th>hits_exp</th>\n",
       "    </tr>\n",
       "  </thead>\n",
       "  <tbody>\n",
       "    <tr>\n",
       "      <th>0</th>\n",
       "      <td>0</td>\n",
       "      <td>0.0</td>\n",
       "      <td>0.025</td>\n",
       "      <td>-169.68</td>\n",
       "    </tr>\n",
       "    <tr>\n",
       "      <th>1</th>\n",
       "      <td>1</td>\n",
       "      <td>0.5</td>\n",
       "      <td>0.300</td>\n",
       "      <td>-51.43</td>\n",
       "    </tr>\n",
       "    <tr>\n",
       "      <th>2</th>\n",
       "      <td>2</td>\n",
       "      <td>1.0</td>\n",
       "      <td>0.675</td>\n",
       "      <td>53.32</td>\n",
       "    </tr>\n",
       "  </tbody>\n",
       "</table>\n",
       "</div>"
      ],
      "text/plain": [
       "   hits  hit_percent  hits_p  hits_exp\n",
       "0     0          0.0   0.025   -169.68\n",
       "1     1          0.5   0.300    -51.43\n",
       "2     2          1.0   0.675     53.32"
      ]
     },
     "execution_count": 12,
     "metadata": {},
     "output_type": "execute_result"
    }
   ],
   "source": [
    "situations"
   ]
  },
  {
   "cell_type": "code",
   "execution_count": null,
   "id": "c7b1c23a-ca8b-427a-9b82-091136ad0403",
   "metadata": {},
   "outputs": [],
   "source": []
  }
 ],
 "metadata": {
  "kernelspec": {
   "display_name": "Python 3 (ipykernel)",
   "language": "python",
   "name": "python3"
  },
  "language_info": {
   "codemirror_mode": {
    "name": "ipython",
    "version": 3
   },
   "file_extension": ".py",
   "mimetype": "text/x-python",
   "name": "python",
   "nbconvert_exporter": "python",
   "pygments_lexer": "ipython3",
   "version": "3.9.6"
  }
 },
 "nbformat": 4,
 "nbformat_minor": 5
}
