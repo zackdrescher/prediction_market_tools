{
 "cells": [
  {
   "cell_type": "code",
   "execution_count": 1,
   "id": "74570493",
   "metadata": {},
   "outputs": [
    {
     "data": {
      "text/plain": [
       "'/home/zack/personal/prediction_market_tools'"
      ]
     },
     "execution_count": 1,
     "metadata": {},
     "output_type": "execute_result"
    }
   ],
   "source": [
    "import os\n",
    "\n",
    "if os.path.basename(os.getcwd()) == 'notebooks':\n",
    "    os.chdir('..')\n",
    "    \n",
    "os.getcwd()"
   ]
  },
  {
   "cell_type": "code",
   "execution_count": 2,
   "id": "fc7dae92-5e70-4846-80cd-a98ac1d7eb3c",
   "metadata": {},
   "outputs": [],
   "source": [
    "from src import kalshi"
   ]
  },
  {
   "cell_type": "code",
   "execution_count": 3,
   "id": "1389d54e-0dae-4569-b0b1-7a1ea9dd8852",
   "metadata": {},
   "outputs": [],
   "source": [
    "k = kalshi.Kalshi()"
   ]
  },
  {
   "cell_type": "code",
   "execution_count": 4,
   "id": "98028a45-7ea6-4026-9260-c97b41efda6f",
   "metadata": {},
   "outputs": [],
   "source": [
    "k.login()"
   ]
  },
  {
   "cell_type": "code",
   "execution_count": 5,
   "id": "d1130c48-3071-4746-bc49-083fd88c3252",
   "metadata": {},
   "outputs": [
    {
     "data": {
      "text/html": [
       "<div>\n",
       "<style scoped>\n",
       "    .dataframe tbody tr th:only-of-type {\n",
       "        vertical-align: middle;\n",
       "    }\n",
       "\n",
       "    .dataframe tbody tr th {\n",
       "        vertical-align: top;\n",
       "    }\n",
       "\n",
       "    .dataframe thead th {\n",
       "        text-align: right;\n",
       "    }\n",
       "</style>\n",
       "<table border=\"1\" class=\"dataframe\">\n",
       "  <thead>\n",
       "    <tr style=\"text-align: right;\">\n",
       "      <th></th>\n",
       "      <th>user_id</th>\n",
       "      <th>market_id</th>\n",
       "      <th>position</th>\n",
       "      <th>position_cost</th>\n",
       "      <th>resting_orders_count</th>\n",
       "      <th>total_cost</th>\n",
       "      <th>realized_pnl</th>\n",
       "      <th>fees_paid</th>\n",
       "      <th>volume</th>\n",
       "      <th>final_position</th>\n",
       "      <th>final_position_cost</th>\n",
       "    </tr>\n",
       "  </thead>\n",
       "  <tbody>\n",
       "    <tr>\n",
       "      <th>0</th>\n",
       "      <td>46ef47c2-585e-49e6-a0b2-d1fdd1f18ff4</td>\n",
       "      <td>2f485e17-27ac-4337-ad04-d63a9fc578ad</td>\n",
       "      <td>-98</td>\n",
       "      <td>6468</td>\n",
       "      <td>0</td>\n",
       "      <td>6468</td>\n",
       "      <td>0</td>\n",
       "      <td>154</td>\n",
       "      <td>98</td>\n",
       "      <td>0</td>\n",
       "      <td>0</td>\n",
       "    </tr>\n",
       "    <tr>\n",
       "      <th>1</th>\n",
       "      <td>46ef47c2-585e-49e6-a0b2-d1fdd1f18ff4</td>\n",
       "      <td>c549ccac-ad50-4f41-a1d1-771745ee97e5</td>\n",
       "      <td>125</td>\n",
       "      <td>10500</td>\n",
       "      <td>0</td>\n",
       "      <td>10500</td>\n",
       "      <td>0</td>\n",
       "      <td>119</td>\n",
       "      <td>125</td>\n",
       "      <td>0</td>\n",
       "      <td>0</td>\n",
       "    </tr>\n",
       "    <tr>\n",
       "      <th>2</th>\n",
       "      <td>46ef47c2-585e-49e6-a0b2-d1fdd1f18ff4</td>\n",
       "      <td>b9689b80-9810-4bbd-b48a-8c637be5f056</td>\n",
       "      <td>5</td>\n",
       "      <td>465</td>\n",
       "      <td>0</td>\n",
       "      <td>465</td>\n",
       "      <td>0</td>\n",
       "      <td>3</td>\n",
       "      <td>5</td>\n",
       "      <td>0</td>\n",
       "      <td>0</td>\n",
       "    </tr>\n",
       "  </tbody>\n",
       "</table>\n",
       "</div>"
      ],
      "text/plain": [
       "                                user_id                             market_id  \\\n",
       "0  46ef47c2-585e-49e6-a0b2-d1fdd1f18ff4  2f485e17-27ac-4337-ad04-d63a9fc578ad   \n",
       "1  46ef47c2-585e-49e6-a0b2-d1fdd1f18ff4  c549ccac-ad50-4f41-a1d1-771745ee97e5   \n",
       "2  46ef47c2-585e-49e6-a0b2-d1fdd1f18ff4  b9689b80-9810-4bbd-b48a-8c637be5f056   \n",
       "\n",
       "   position  position_cost  resting_orders_count  total_cost  realized_pnl  \\\n",
       "0       -98           6468                     0        6468             0   \n",
       "1       125          10500                     0       10500             0   \n",
       "2         5            465                     0         465             0   \n",
       "\n",
       "   fees_paid  volume  final_position  final_position_cost  \n",
       "0        154      98               0                    0  \n",
       "1        119     125               0                    0  \n",
       "2          3       5               0                    0  "
      ]
     },
     "execution_count": 5,
     "metadata": {},
     "output_type": "execute_result"
    }
   ],
   "source": [
    "k.get_positions()"
   ]
  },
  {
   "cell_type": "code",
   "execution_count": 6,
   "id": "7c314431-888f-4d9b-b856-9e0a4ea32096",
   "metadata": {},
   "outputs": [
    {
     "data": {
      "text/html": [
       "<div>\n",
       "<style scoped>\n",
       "    .dataframe tbody tr th:only-of-type {\n",
       "        vertical-align: middle;\n",
       "    }\n",
       "\n",
       "    .dataframe tbody tr th {\n",
       "        vertical-align: top;\n",
       "    }\n",
       "\n",
       "    .dataframe thead th {\n",
       "        text-align: right;\n",
       "    }\n",
       "</style>\n",
       "<table border=\"1\" class=\"dataframe\">\n",
       "  <thead>\n",
       "    <tr style=\"text-align: right;\">\n",
       "      <th></th>\n",
       "      <th>id</th>\n",
       "      <th>market_id</th>\n",
       "      <th>order_id</th>\n",
       "      <th>is_taker</th>\n",
       "      <th>is_yes</th>\n",
       "      <th>status</th>\n",
       "      <th>price</th>\n",
       "      <th>count</th>\n",
       "      <th>create_date</th>\n",
       "    </tr>\n",
       "  </thead>\n",
       "  <tbody>\n",
       "    <tr>\n",
       "      <th>0</th>\n",
       "      <td>361f133e-aac2-405f-9192-eb31ce5ffd7f</td>\n",
       "      <td>b9689b80-9810-4bbd-b48a-8c637be5f056</td>\n",
       "      <td>4da35be4-09b0-411a-945f-0d74eed44a26</td>\n",
       "      <td>True</td>\n",
       "      <td>True</td>\n",
       "      <td>confirmed</td>\n",
       "      <td>93</td>\n",
       "      <td>5</td>\n",
       "      <td>2021-09-15T18:05:58.783717Z</td>\n",
       "    </tr>\n",
       "    <tr>\n",
       "      <th>1</th>\n",
       "      <td>0c512704-08c0-4c92-a1fe-188bba63bb20</td>\n",
       "      <td>c549ccac-ad50-4f41-a1d1-771745ee97e5</td>\n",
       "      <td>e37e8c13-872f-4d92-ab37-ecd79508aa12</td>\n",
       "      <td>True</td>\n",
       "      <td>True</td>\n",
       "      <td>confirmed</td>\n",
       "      <td>84</td>\n",
       "      <td>113</td>\n",
       "      <td>2021-09-14T22:22:27.403798Z</td>\n",
       "    </tr>\n",
       "    <tr>\n",
       "      <th>2</th>\n",
       "      <td>4948b1e1-bd23-4da5-b97d-9711f9d7e1ef</td>\n",
       "      <td>c549ccac-ad50-4f41-a1d1-771745ee97e5</td>\n",
       "      <td>e37e8c13-872f-4d92-ab37-ecd79508aa12</td>\n",
       "      <td>True</td>\n",
       "      <td>True</td>\n",
       "      <td>confirmed</td>\n",
       "      <td>84</td>\n",
       "      <td>8</td>\n",
       "      <td>2021-09-14T22:22:27.403798Z</td>\n",
       "    </tr>\n",
       "    <tr>\n",
       "      <th>3</th>\n",
       "      <td>90f63f38-05b4-49db-ad16-afce288965cf</td>\n",
       "      <td>c549ccac-ad50-4f41-a1d1-771745ee97e5</td>\n",
       "      <td>e37e8c13-872f-4d92-ab37-ecd79508aa12</td>\n",
       "      <td>True</td>\n",
       "      <td>True</td>\n",
       "      <td>confirmed</td>\n",
       "      <td>84</td>\n",
       "      <td>4</td>\n",
       "      <td>2021-09-14T22:22:27.403798Z</td>\n",
       "    </tr>\n",
       "    <tr>\n",
       "      <th>4</th>\n",
       "      <td>e71cb3fa-c13c-45da-b95f-c759fc78a95a</td>\n",
       "      <td>2f485e17-27ac-4337-ad04-d63a9fc578ad</td>\n",
       "      <td>bd605c5e-a955-4966-a1c0-794f9670d4bd</td>\n",
       "      <td>True</td>\n",
       "      <td>False</td>\n",
       "      <td>confirmed</td>\n",
       "      <td>66</td>\n",
       "      <td>98</td>\n",
       "      <td>2021-09-14T22:15:15.026468Z</td>\n",
       "    </tr>\n",
       "  </tbody>\n",
       "</table>\n",
       "</div>"
      ],
      "text/plain": [
       "                                     id                             market_id  \\\n",
       "0  361f133e-aac2-405f-9192-eb31ce5ffd7f  b9689b80-9810-4bbd-b48a-8c637be5f056   \n",
       "1  0c512704-08c0-4c92-a1fe-188bba63bb20  c549ccac-ad50-4f41-a1d1-771745ee97e5   \n",
       "2  4948b1e1-bd23-4da5-b97d-9711f9d7e1ef  c549ccac-ad50-4f41-a1d1-771745ee97e5   \n",
       "3  90f63f38-05b4-49db-ad16-afce288965cf  c549ccac-ad50-4f41-a1d1-771745ee97e5   \n",
       "4  e71cb3fa-c13c-45da-b95f-c759fc78a95a  2f485e17-27ac-4337-ad04-d63a9fc578ad   \n",
       "\n",
       "                               order_id  is_taker  is_yes     status  price  \\\n",
       "0  4da35be4-09b0-411a-945f-0d74eed44a26      True    True  confirmed     93   \n",
       "1  e37e8c13-872f-4d92-ab37-ecd79508aa12      True    True  confirmed     84   \n",
       "2  e37e8c13-872f-4d92-ab37-ecd79508aa12      True    True  confirmed     84   \n",
       "3  e37e8c13-872f-4d92-ab37-ecd79508aa12      True    True  confirmed     84   \n",
       "4  bd605c5e-a955-4966-a1c0-794f9670d4bd      True   False  confirmed     66   \n",
       "\n",
       "   count                  create_date  \n",
       "0      5  2021-09-15T18:05:58.783717Z  \n",
       "1    113  2021-09-14T22:22:27.403798Z  \n",
       "2      8  2021-09-14T22:22:27.403798Z  \n",
       "3      4  2021-09-14T22:22:27.403798Z  \n",
       "4     98  2021-09-14T22:15:15.026468Z  "
      ]
     },
     "execution_count": 6,
     "metadata": {},
     "output_type": "execute_result"
    }
   ],
   "source": [
    "k.get_trades()"
   ]
  },
  {
   "cell_type": "code",
   "execution_count": null,
   "id": "088183f5-f621-4361-8480-a8fcd0180a2b",
   "metadata": {},
   "outputs": [],
   "source": []
  }
 ],
 "metadata": {
  "interpreter": {
   "hash": "b7aef8a4e211b4ac6a864313bd14b38f06e371bd8fdc84e784c288cd72986309"
  },
  "kernelspec": {
   "display_name": "Python 3 (ipykernel)",
   "language": "python",
   "name": "python3"
  },
  "language_info": {
   "codemirror_mode": {
    "name": "ipython",
    "version": 3
   },
   "file_extension": ".py",
   "mimetype": "text/x-python",
   "name": "python",
   "nbconvert_exporter": "python",
   "pygments_lexer": "ipython3",
   "version": "3.9.6"
  }
 },
 "nbformat": 4,
 "nbformat_minor": 5
}
